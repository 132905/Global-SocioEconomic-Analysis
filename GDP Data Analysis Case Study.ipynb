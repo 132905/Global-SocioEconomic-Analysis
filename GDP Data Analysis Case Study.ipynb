{
 "cells": [
  {
   "cell_type": "markdown",
   "id": "32f91a9e-e966-441d-9414-02734f81fbea",
   "metadata": {},
   "source": [
    "# GDP Data Analysis "
   ]
  },
  {
   "cell_type": "code",
   "execution_count": 1,
   "id": "5a7d5b14-7a5f-46bf-b4d9-dd6d393e7385",
   "metadata": {},
   "outputs": [],
   "source": [
    "import numpy as np\n",
    "import pandas as pd"
   ]
  },
  {
   "cell_type": "code",
   "execution_count": 2,
   "id": "9534781b-586f-486b-9a04-5d630c4c48d4",
   "metadata": {},
   "outputs": [],
   "source": [
    "df = pd.read_csv(r'all_countries.csv')"
   ]
  },
  {
   "cell_type": "markdown",
   "id": "6596c7be-a8d5-48a9-8f0c-b7fd85402a02",
   "metadata": {},
   "source": [
    "## 🧾 General Data Overview"
   ]
  },
  {
   "cell_type": "markdown",
   "id": "ef631227-dd12-4ac7-9cae-7d45854cac94",
   "metadata": {},
   "source": [
    "1.\tWhat are the column names in the dataset?"
   ]
  },
  {
   "cell_type": "code",
   "execution_count": 3,
   "id": "bb91371c-af6d-4668-a53e-5af23f185fb1",
   "metadata": {},
   "outputs": [
    {
     "data": {
      "text/plain": [
       "Index(['Country', 'Region', 'Population', 'Area (sq. mi.)',\n",
       "       'Pop. Density (per sq. mi.)', 'Coastline (coast/area ratio)',\n",
       "       'Net migration', 'Infant mortality (per 1000 births)',\n",
       "       'GDP ($ per capita)', 'Literacy (%)', 'Phones (per 1000)', 'Arable (%)',\n",
       "       'Crops (%)', 'Other (%)', 'Climate', 'Birthrate', 'Deathrate',\n",
       "       'Agriculture', 'Industry', 'Service'],\n",
       "      dtype='object')"
      ]
     },
     "execution_count": 3,
     "metadata": {},
     "output_type": "execute_result"
    }
   ],
   "source": [
    "df.columns"
   ]
  },
  {
   "cell_type": "code",
   "execution_count": 4,
   "id": "6bc672ab-0074-4428-9d0b-8a4ccb7706b5",
   "metadata": {},
   "outputs": [],
   "source": [
    "df.columns = df.columns.str.replace(r'[(. /)]','_', regex=True).str.replace(r'[$]','dollar', regex=True).str.replace(r'[%]','pct', regex=True).str.replace(r'_+','_',regex=True)"
   ]
  },
  {
   "cell_type": "code",
   "execution_count": 5,
   "id": "e17af40f-76b3-4c22-aca7-aebfd6785ff8",
   "metadata": {},
   "outputs": [
    {
     "data": {
      "text/plain": [
       "Index(['Country', 'Region', 'Population', 'Area_sq_mi_',\n",
       "       'Pop_Density_per_sq_mi_', 'Coastline_coast_area_ratio_',\n",
       "       'Net_migration', 'Infant_mortality_per_1000_births_',\n",
       "       'GDP_dollar_per_capita_', 'Literacy_pct_', 'Phones_per_1000_',\n",
       "       'Arable_pct_', 'Crops_pct_', 'Other_pct_', 'Climate', 'Birthrate',\n",
       "       'Deathrate', 'Agriculture', 'Industry', 'Service'],\n",
       "      dtype='object')"
      ]
     },
     "execution_count": 5,
     "metadata": {},
     "output_type": "execute_result"
    }
   ],
   "source": [
    "df.columns"
   ]
  },
  {
   "cell_type": "markdown",
   "id": "3cc9c7b2-991b-469c-bb0a-da5282f48593",
   "metadata": {},
   "source": [
    "2.\tHow many rows and columns are present?"
   ]
  },
  {
   "cell_type": "code",
   "execution_count": 6,
   "id": "6d01e9a6-99f6-4ed0-8ec8-64a6155c9fa4",
   "metadata": {},
   "outputs": [
    {
     "name": "stdout",
     "output_type": "stream",
     "text": [
      "Rows: 227 \n",
      "Columns: 20 \n"
     ]
    }
   ],
   "source": [
    "s=df.shape\n",
    "print(f'Rows: {s[0]} ')\n",
    "print(f'Columns: {s[1]} ')"
   ]
  },
  {
   "cell_type": "markdown",
   "id": "e47b1004-6f8d-455e-9d7b-839857d93d7c",
   "metadata": {},
   "source": [
    "3.\tAre there any missing or null values in the dataset?"
   ]
  },
  {
   "cell_type": "code",
   "execution_count": 7,
   "id": "3f8b38cc-6894-4ee8-b831-e57a5d0d0db4",
   "metadata": {},
   "outputs": [
    {
     "data": {
      "text/plain": [
       "Country                               0\n",
       "Region                                0\n",
       "Population                            0\n",
       "Area_sq_mi_                           0\n",
       "Pop_Density_per_sq_mi_                0\n",
       "Coastline_coast_area_ratio_           0\n",
       "Net_migration                         3\n",
       "Infant_mortality_per_1000_births_     3\n",
       "GDP_dollar_per_capita_                1\n",
       "Literacy_pct_                        18\n",
       "Phones_per_1000_                      4\n",
       "Arable_pct_                           2\n",
       "Crops_pct_                            2\n",
       "Other_pct_                            2\n",
       "Climate                              22\n",
       "Birthrate                             3\n",
       "Deathrate                             4\n",
       "Agriculture                          15\n",
       "Industry                             16\n",
       "Service                              15\n",
       "dtype: int64"
      ]
     },
     "execution_count": 7,
     "metadata": {},
     "output_type": "execute_result"
    }
   ],
   "source": [
    "df.isna().sum()"
   ]
  },
  {
   "cell_type": "markdown",
   "id": "21597eac-716e-44a1-bfe5-8e310e60ce13",
   "metadata": {},
   "source": [
    "4.\tWhat are the data types of each column?"
   ]
  },
  {
   "cell_type": "code",
   "execution_count": 8,
   "id": "864c7060-6a3e-4c8c-92b8-4cce68406b85",
   "metadata": {},
   "outputs": [
    {
     "data": {
      "text/plain": [
       "Country                               object\n",
       "Region                                object\n",
       "Population                             int64\n",
       "Area_sq_mi_                            int64\n",
       "Pop_Density_per_sq_mi_                object\n",
       "Coastline_coast_area_ratio_           object\n",
       "Net_migration                         object\n",
       "Infant_mortality_per_1000_births_     object\n",
       "GDP_dollar_per_capita_               float64\n",
       "Literacy_pct_                         object\n",
       "Phones_per_1000_                      object\n",
       "Arable_pct_                           object\n",
       "Crops_pct_                            object\n",
       "Other_pct_                            object\n",
       "Climate                               object\n",
       "Birthrate                             object\n",
       "Deathrate                             object\n",
       "Agriculture                           object\n",
       "Industry                              object\n",
       "Service                               object\n",
       "dtype: object"
      ]
     },
     "execution_count": 8,
     "metadata": {},
     "output_type": "execute_result"
    }
   ],
   "source": [
    "df.dtypes"
   ]
  },
  {
   "cell_type": "code",
   "execution_count": 9,
   "id": "0b6db036-1fff-42ec-876d-c03cc6aee7a1",
   "metadata": {},
   "outputs": [],
   "source": [
    "numeric_cols = df.select_dtypes(include = np.number).columns.tolist()\n",
    "categorical_cols = df.select_dtypes(include = 'object').columns.tolist()"
   ]
  },
  {
   "cell_type": "code",
   "execution_count": 10,
   "id": "2aaf8124-4877-4ba5-9ee0-c87645737a9a",
   "metadata": {},
   "outputs": [
    {
     "name": "stdout",
     "output_type": "stream",
     "text": [
      "\n",
      "Numeric columns: ['Population', 'Area_sq_mi_', 'GDP_dollar_per_capita_']\n",
      "\n",
      "Categorical columns: ['Country', 'Region', 'Pop_Density_per_sq_mi_', 'Coastline_coast_area_ratio_', 'Net_migration', 'Infant_mortality_per_1000_births_', 'Literacy_pct_', 'Phones_per_1000_', 'Arable_pct_', 'Crops_pct_', 'Other_pct_', 'Climate', 'Birthrate', 'Deathrate', 'Agriculture', 'Industry', 'Service']\n"
     ]
    }
   ],
   "source": [
    "print(f'\\nNumeric columns: {numeric_cols}')\n",
    "print(f'\\nCategorical columns: {categorical_cols}')"
   ]
  },
  {
   "cell_type": "code",
   "execution_count": 11,
   "id": "fc2dafe1-1683-41f2-bb24-03605fcc0c0d",
   "metadata": {},
   "outputs": [],
   "source": [
    "to_convert = ['Pop_Density_per_sq_mi_', 'Coastline_coast_area_ratio_', 'Net_migration', 'Infant_mortality_per_1000_births_', 'Literacy_pct_',\n",
    "              'Phones_per_1000_', 'Arable_pct_', 'Crops_pct_', 'Other_pct_', 'Climate', 'Birthrate', 'Deathrate', 'Agriculture', 'Industry', 'Service']\n",
    "df[to_convert] = df[to_convert].apply(lambda x: x.str.replace(',','.').astype(float))"
   ]
  },
  {
   "cell_type": "code",
   "execution_count": 12,
   "id": "9facc19d-c4cb-4b0b-a0a1-1b4beb458c98",
   "metadata": {},
   "outputs": [
    {
     "name": "stdout",
     "output_type": "stream",
     "text": [
      "\n",
      "Numeric columns: ['Population', 'Area_sq_mi_', 'Pop_Density_per_sq_mi_', 'Coastline_coast_area_ratio_', 'Net_migration', 'Infant_mortality_per_1000_births_', 'GDP_dollar_per_capita_', 'Literacy_pct_', 'Phones_per_1000_', 'Arable_pct_', 'Crops_pct_', 'Other_pct_', 'Climate', 'Birthrate', 'Deathrate', 'Agriculture', 'Industry', 'Service']\n",
      "\n",
      "Categorical columns: ['Country', 'Region']\n"
     ]
    }
   ],
   "source": [
    "numeric_cols = df.select_dtypes(include = np.number).columns.tolist()\n",
    "categorical_cols = df.select_dtypes(include = 'object').columns.tolist()\n",
    "\n",
    "print(f'\\nNumeric columns: {numeric_cols}')\n",
    "print(f'\\nCategorical columns: {categorical_cols}')"
   ]
  },
  {
   "cell_type": "code",
   "execution_count": 13,
   "id": "3ce817da-5c99-44bb-9aae-f70e70eb1f8c",
   "metadata": {},
   "outputs": [
    {
     "data": {
      "text/plain": [
       "Country                               object\n",
       "Region                                object\n",
       "Population                             int64\n",
       "Area_sq_mi_                            int64\n",
       "Pop_Density_per_sq_mi_               float64\n",
       "Coastline_coast_area_ratio_          float64\n",
       "Net_migration                        float64\n",
       "Infant_mortality_per_1000_births_    float64\n",
       "GDP_dollar_per_capita_               float64\n",
       "Literacy_pct_                        float64\n",
       "Phones_per_1000_                     float64\n",
       "Arable_pct_                          float64\n",
       "Crops_pct_                           float64\n",
       "Other_pct_                           float64\n",
       "Climate                              float64\n",
       "Birthrate                            float64\n",
       "Deathrate                            float64\n",
       "Agriculture                          float64\n",
       "Industry                             float64\n",
       "Service                              float64\n",
       "dtype: object"
      ]
     },
     "execution_count": 13,
     "metadata": {},
     "output_type": "execute_result"
    }
   ],
   "source": [
    "df.dtypes"
   ]
  },
  {
   "cell_type": "markdown",
   "id": "5e5a72f8-b6d8-4ab2-9619-de97f399e2e4",
   "metadata": {},
   "source": [
    "5.\tWhich columns have numeric values and which are categorical?"
   ]
  },
  {
   "cell_type": "code",
   "execution_count": 14,
   "id": "8ef0694d-de3e-4411-8ede-fdd0abf63054",
   "metadata": {},
   "outputs": [
    {
     "name": "stdout",
     "output_type": "stream",
     "text": [
      "\n",
      "Numeric columns: ['Population', 'Area_sq_mi_', 'Pop_Density_per_sq_mi_', 'Coastline_coast_area_ratio_', 'Net_migration', 'Infant_mortality_per_1000_births_', 'GDP_dollar_per_capita_', 'Literacy_pct_', 'Phones_per_1000_', 'Arable_pct_', 'Crops_pct_', 'Other_pct_', 'Climate', 'Birthrate', 'Deathrate', 'Agriculture', 'Industry', 'Service']\n",
      "\n",
      "Categorical columns: ['Country', 'Region']\n"
     ]
    }
   ],
   "source": [
    "numeric_cols = df.select_dtypes(include = np.number).columns.tolist()\n",
    "categorical_cols = df.select_dtypes(include = 'object').columns.tolist()\n",
    "\n",
    "print(f'\\nNumeric columns: {numeric_cols}')\n",
    "print(f'\\nCategorical columns: {categorical_cols}')"
   ]
  },
  {
   "cell_type": "markdown",
   "id": "351515e9-5c2a-4c63-ad6a-491ba5bd7423",
   "metadata": {},
   "source": [
    "## 🌍 Geographic and Regional Analysis"
   ]
  },
  {
   "cell_type": "markdown",
   "id": "15463e3d-6322-44fd-9855-0df08dc27fd1",
   "metadata": {},
   "source": [
    "6.\tHow many unique regions are represented in the dataset?"
   ]
  },
  {
   "cell_type": "code",
   "execution_count": 15,
   "id": "ca1ff115-8c3a-46ae-a0a7-4ddbd0446feb",
   "metadata": {},
   "outputs": [
    {
     "data": {
      "text/plain": [
       "11"
      ]
     },
     "execution_count": 15,
     "metadata": {},
     "output_type": "execute_result"
    }
   ],
   "source": [
    "df.Region.nunique()"
   ]
  },
  {
   "cell_type": "code",
   "execution_count": 16,
   "id": "fcaa25f0-39a0-4a2d-ac4d-637509c0858d",
   "metadata": {},
   "outputs": [
    {
     "data": {
      "text/plain": [
       "11"
      ]
     },
     "execution_count": 16,
     "metadata": {},
     "output_type": "execute_result"
    }
   ],
   "source": [
    "df.Region.value_counts().shape[0]"
   ]
  },
  {
   "cell_type": "markdown",
   "id": "53d28206-d9a3-47fc-8904-2a06f675eac6",
   "metadata": {},
   "source": [
    "7.\tWhich countries belong to each region?"
   ]
  },
  {
   "cell_type": "code",
   "execution_count": 17,
   "id": "53621e2f-d31a-4c5c-b4d1-45764ba92d70",
   "metadata": {},
   "outputs": [
    {
     "data": {
      "text/html": [
       "<div>\n",
       "<style scoped>\n",
       "    .dataframe tbody tr th:only-of-type {\n",
       "        vertical-align: middle;\n",
       "    }\n",
       "\n",
       "    .dataframe tbody tr th {\n",
       "        vertical-align: top;\n",
       "    }\n",
       "\n",
       "    .dataframe thead th {\n",
       "        text-align: right;\n",
       "    }\n",
       "</style>\n",
       "<table border=\"1\" class=\"dataframe\">\n",
       "  <thead>\n",
       "    <tr style=\"text-align: right;\">\n",
       "      <th></th>\n",
       "      <th>Region</th>\n",
       "      <th>Country</th>\n",
       "    </tr>\n",
       "  </thead>\n",
       "  <tbody>\n",
       "    <tr>\n",
       "      <th>0</th>\n",
       "      <td>ASIA (EX. NEAR EAST)</td>\n",
       "      <td>[Afghanistan , Bangladesh , Bhutan , Brunei , ...</td>\n",
       "    </tr>\n",
       "    <tr>\n",
       "      <th>1</th>\n",
       "      <td>BALTICS</td>\n",
       "      <td>[Estonia , Latvia , Lithuania ]</td>\n",
       "    </tr>\n",
       "    <tr>\n",
       "      <th>2</th>\n",
       "      <td>C.W. OF IND. STATES</td>\n",
       "      <td>[Armenia , Azerbaijan , Belarus , Georgia , Ka...</td>\n",
       "    </tr>\n",
       "    <tr>\n",
       "      <th>3</th>\n",
       "      <td>EASTERN EUROPE</td>\n",
       "      <td>[Albania , Bosnia &amp; Herzegovina , Bulgaria , C...</td>\n",
       "    </tr>\n",
       "    <tr>\n",
       "      <th>4</th>\n",
       "      <td>LATIN AMER. &amp; CARIB</td>\n",
       "      <td>[Anguilla , Antigua &amp; Barbuda , Argentina , Ar...</td>\n",
       "    </tr>\n",
       "    <tr>\n",
       "      <th>5</th>\n",
       "      <td>NEAR EAST</td>\n",
       "      <td>[Bahrain , Cyprus , Gaza Strip , Iraq , Israel...</td>\n",
       "    </tr>\n",
       "    <tr>\n",
       "      <th>6</th>\n",
       "      <td>NORTHERN AFRICA</td>\n",
       "      <td>[Algeria , Egypt , Libya , Morocco , Tunisia ,...</td>\n",
       "    </tr>\n",
       "    <tr>\n",
       "      <th>7</th>\n",
       "      <td>NORTHERN AMERICA</td>\n",
       "      <td>[Bermuda , Canada , Greenland , St Pierre &amp; Mi...</td>\n",
       "    </tr>\n",
       "    <tr>\n",
       "      <th>8</th>\n",
       "      <td>OCEANIA</td>\n",
       "      <td>[American Samoa , Australia , Cook Islands , F...</td>\n",
       "    </tr>\n",
       "    <tr>\n",
       "      <th>9</th>\n",
       "      <td>SUB-SAHARAN AFRICA</td>\n",
       "      <td>[Angola , Benin , Botswana , Burkina Faso , Bu...</td>\n",
       "    </tr>\n",
       "    <tr>\n",
       "      <th>10</th>\n",
       "      <td>WESTERN EUROPE</td>\n",
       "      <td>[Andorra , Austria , Belgium , Denmark , Faroe...</td>\n",
       "    </tr>\n",
       "  </tbody>\n",
       "</table>\n",
       "</div>"
      ],
      "text/plain": [
       "                                 Region  \\\n",
       "0         ASIA (EX. NEAR EAST)            \n",
       "1   BALTICS                               \n",
       "2                  C.W. OF IND. STATES    \n",
       "3   EASTERN EUROPE                        \n",
       "4               LATIN AMER. & CARIB       \n",
       "5   NEAR EAST                             \n",
       "6   NORTHERN AFRICA                       \n",
       "7   NORTHERN AMERICA                      \n",
       "8   OCEANIA                               \n",
       "9   SUB-SAHARAN AFRICA                    \n",
       "10  WESTERN EUROPE                        \n",
       "\n",
       "                                              Country  \n",
       "0   [Afghanistan , Bangladesh , Bhutan , Brunei , ...  \n",
       "1                     [Estonia , Latvia , Lithuania ]  \n",
       "2   [Armenia , Azerbaijan , Belarus , Georgia , Ka...  \n",
       "3   [Albania , Bosnia & Herzegovina , Bulgaria , C...  \n",
       "4   [Anguilla , Antigua & Barbuda , Argentina , Ar...  \n",
       "5   [Bahrain , Cyprus , Gaza Strip , Iraq , Israel...  \n",
       "6   [Algeria , Egypt , Libya , Morocco , Tunisia ,...  \n",
       "7   [Bermuda , Canada , Greenland , St Pierre & Mi...  \n",
       "8   [American Samoa , Australia , Cook Islands , F...  \n",
       "9   [Angola , Benin , Botswana , Burkina Faso , Bu...  \n",
       "10  [Andorra , Austria , Belgium , Denmark , Faroe...  "
      ]
     },
     "execution_count": 17,
     "metadata": {},
     "output_type": "execute_result"
    }
   ],
   "source": [
    "df.groupby('Region').Country.apply(list).reset_index()"
   ]
  },
  {
   "cell_type": "markdown",
   "id": "c7c3d36f-3c31-4997-834b-17a04e0eed02",
   "metadata": {},
   "source": [
    "8.\tWhich region has the highest number of countries?"
   ]
  },
  {
   "cell_type": "code",
   "execution_count": 18,
   "id": "dcdd82d3-eb98-476c-9d06-7551d3712d50",
   "metadata": {},
   "outputs": [
    {
     "data": {
      "text/plain": [
       "'SUB-SAHARAN AFRICA'"
      ]
     },
     "execution_count": 18,
     "metadata": {},
     "output_type": "execute_result"
    }
   ],
   "source": [
    "df.Region.value_counts().idxmax().strip()"
   ]
  },
  {
   "cell_type": "markdown",
   "id": "770fd8a5-d6a5-4ea4-8132-124e66f9b984",
   "metadata": {},
   "source": [
    "9.\tWhat is the total population per region?"
   ]
  },
  {
   "cell_type": "code",
   "execution_count": 19,
   "id": "a1da5131-99b9-4a63-9c15-1deb0739f2c1",
   "metadata": {},
   "outputs": [
    {
     "data": {
      "text/html": [
       "<div>\n",
       "<style scoped>\n",
       "    .dataframe tbody tr th:only-of-type {\n",
       "        vertical-align: middle;\n",
       "    }\n",
       "\n",
       "    .dataframe tbody tr th {\n",
       "        vertical-align: top;\n",
       "    }\n",
       "\n",
       "    .dataframe thead th {\n",
       "        text-align: right;\n",
       "    }\n",
       "</style>\n",
       "<table border=\"1\" class=\"dataframe\">\n",
       "  <thead>\n",
       "    <tr style=\"text-align: right;\">\n",
       "      <th></th>\n",
       "      <th>Region</th>\n",
       "      <th>Population</th>\n",
       "    </tr>\n",
       "  </thead>\n",
       "  <tbody>\n",
       "    <tr>\n",
       "      <th>0</th>\n",
       "      <td>ASIA (EX. NEAR EAST)</td>\n",
       "      <td>368.80 Cr</td>\n",
       "    </tr>\n",
       "    <tr>\n",
       "      <th>1</th>\n",
       "      <td>BALTICS</td>\n",
       "      <td>0.72 Cr</td>\n",
       "    </tr>\n",
       "    <tr>\n",
       "      <th>2</th>\n",
       "      <td>C.W. OF IND. STATES</td>\n",
       "      <td>28.01 Cr</td>\n",
       "    </tr>\n",
       "    <tr>\n",
       "      <th>3</th>\n",
       "      <td>EASTERN EUROPE</td>\n",
       "      <td>11.99 Cr</td>\n",
       "    </tr>\n",
       "    <tr>\n",
       "      <th>4</th>\n",
       "      <td>LATIN AMER. &amp; CARIB</td>\n",
       "      <td>56.18 Cr</td>\n",
       "    </tr>\n",
       "    <tr>\n",
       "      <th>5</th>\n",
       "      <td>NEAR EAST</td>\n",
       "      <td>19.51 Cr</td>\n",
       "    </tr>\n",
       "    <tr>\n",
       "      <th>6</th>\n",
       "      <td>NORTHERN AFRICA</td>\n",
       "      <td>16.14 Cr</td>\n",
       "    </tr>\n",
       "    <tr>\n",
       "      <th>7</th>\n",
       "      <td>NORTHERN AMERICA</td>\n",
       "      <td>33.17 Cr</td>\n",
       "    </tr>\n",
       "    <tr>\n",
       "      <th>8</th>\n",
       "      <td>OCEANIA</td>\n",
       "      <td>3.31 Cr</td>\n",
       "    </tr>\n",
       "    <tr>\n",
       "      <th>9</th>\n",
       "      <td>SUB-SAHARAN AFRICA</td>\n",
       "      <td>74.94 Cr</td>\n",
       "    </tr>\n",
       "    <tr>\n",
       "      <th>10</th>\n",
       "      <td>WESTERN EUROPE</td>\n",
       "      <td>39.63 Cr</td>\n",
       "    </tr>\n",
       "  </tbody>\n",
       "</table>\n",
       "</div>"
      ],
      "text/plain": [
       "                                 Region Population\n",
       "0         ASIA (EX. NEAR EAST)           368.80 Cr\n",
       "1   BALTICS                                0.72 Cr\n",
       "2                  C.W. OF IND. STATES    28.01 Cr\n",
       "3   EASTERN EUROPE                        11.99 Cr\n",
       "4               LATIN AMER. & CARIB       56.18 Cr\n",
       "5   NEAR EAST                             19.51 Cr\n",
       "6   NORTHERN AFRICA                       16.14 Cr\n",
       "7   NORTHERN AMERICA                      33.17 Cr\n",
       "8   OCEANIA                                3.31 Cr\n",
       "9   SUB-SAHARAN AFRICA                    74.94 Cr\n",
       "10  WESTERN EUROPE                        39.63 Cr"
      ]
     },
     "execution_count": 19,
     "metadata": {},
     "output_type": "execute_result"
    }
   ],
   "source": [
    "df.groupby('Region').Population.sum().apply(lambda x: f'{x/10000000:.2f} Cr').reset_index()"
   ]
  },
  {
   "cell_type": "markdown",
   "id": "bf7e30d0-3539-4444-8a9b-df3bff806734",
   "metadata": {},
   "source": [
    "10.\tWhich region has the largest land area in total?"
   ]
  },
  {
   "cell_type": "code",
   "execution_count": 20,
   "id": "beed3670-5680-4d22-a6cc-01d91e47648e",
   "metadata": {},
   "outputs": [
    {
     "data": {
      "text/plain": [
       "'SUB-SAHARAN AFRICA'"
      ]
     },
     "execution_count": 20,
     "metadata": {},
     "output_type": "execute_result"
    }
   ],
   "source": [
    "df.groupby('Region')['Area_sq_mi_'].sum().idxmax().strip()"
   ]
  },
  {
   "cell_type": "markdown",
   "id": "a7b226ae-cf57-41a1-96af-e1073edad194",
   "metadata": {},
   "source": [
    "## 🧑‍🤝‍🧑 Population and Density"
   ]
  },
  {
   "cell_type": "markdown",
   "id": "8d977aa5-5499-4789-84fb-f11f130ef2e4",
   "metadata": {},
   "source": [
    "11.\tWhich countries have the highest and lowest population?"
   ]
  },
  {
   "cell_type": "code",
   "execution_count": 54,
   "id": "9ed9c9e5-160e-4762-900c-81379861da3b",
   "metadata": {},
   "outputs": [
    {
     "data": {
      "text/plain": [
       "'China '"
      ]
     },
     "execution_count": 54,
     "metadata": {},
     "output_type": "execute_result"
    }
   ],
   "source": [
    "df.iloc[df.Population.idxmax()].Country"
   ]
  },
  {
   "cell_type": "code",
   "execution_count": 55,
   "id": "eac003a8-4942-48c4-ba61-50817a0f5fe6",
   "metadata": {},
   "outputs": [
    {
     "data": {
      "text/plain": [
       "'China '"
      ]
     },
     "execution_count": 55,
     "metadata": {},
     "output_type": "execute_result"
    }
   ],
   "source": [
    "df.groupby('Country').Population.max().idxmax()"
   ]
  },
  {
   "cell_type": "code",
   "execution_count": 41,
   "id": "58b3851a-362b-4d5b-a898-3daac334315c",
   "metadata": {},
   "outputs": [
    {
     "data": {
      "text/plain": [
       "'St Pierre & Miquelon '"
      ]
     },
     "execution_count": 41,
     "metadata": {},
     "output_type": "execute_result"
    }
   ],
   "source": [
    "df.iloc[df.Population.idxmin()].Country"
   ]
  },
  {
   "cell_type": "code",
   "execution_count": 56,
   "id": "b05afa39-8275-4014-b26c-dc824a99b634",
   "metadata": {},
   "outputs": [
    {
     "data": {
      "text/plain": [
       "'St Pierre & Miquelon '"
      ]
     },
     "execution_count": 56,
     "metadata": {},
     "output_type": "execute_result"
    }
   ],
   "source": [
    "df.groupby('Country').Population.min().idxmin()"
   ]
  },
  {
   "cell_type": "markdown",
   "id": "a5b2c89d-73aa-48f9-99b4-69d9faf199bf",
   "metadata": {},
   "source": [
    "12.\tWhich countries have the highest and lowest population density?"
   ]
  },
  {
   "cell_type": "code",
   "execution_count": 50,
   "id": "7ce85ddf-b7f4-4d63-b56f-be5a13692fa2",
   "metadata": {},
   "outputs": [
    {
     "name": "stdout",
     "output_type": "stream",
     "text": [
      "Highest population density: \n"
     ]
    },
    {
     "data": {
      "text/html": [
       "<div>\n",
       "<style scoped>\n",
       "    .dataframe tbody tr th:only-of-type {\n",
       "        vertical-align: middle;\n",
       "    }\n",
       "\n",
       "    .dataframe tbody tr th {\n",
       "        vertical-align: top;\n",
       "    }\n",
       "\n",
       "    .dataframe thead th {\n",
       "        text-align: right;\n",
       "    }\n",
       "</style>\n",
       "<table border=\"1\" class=\"dataframe\">\n",
       "  <thead>\n",
       "    <tr style=\"text-align: right;\">\n",
       "      <th></th>\n",
       "      <th>Country</th>\n",
       "      <th>Pop_Density_per_sq_mi_</th>\n",
       "    </tr>\n",
       "  </thead>\n",
       "  <tbody>\n",
       "    <tr>\n",
       "      <th>138</th>\n",
       "      <td>Monaco</td>\n",
       "      <td>16271.5</td>\n",
       "    </tr>\n",
       "  </tbody>\n",
       "</table>\n",
       "</div>"
      ],
      "text/plain": [
       "     Country  Pop_Density_per_sq_mi_\n",
       "138  Monaco                  16271.5"
      ]
     },
     "execution_count": 50,
     "metadata": {},
     "output_type": "execute_result"
    }
   ],
   "source": [
    "high_pd = df[df['Pop_Density_per_sq_mi_'] == df['Pop_Density_per_sq_mi_'].max()]\n",
    "low_pd = df[df['Pop_Density_per_sq_mi_'] == df['Pop_Density_per_sq_mi_'].min()]\n",
    "print('Highest population density: ')\n",
    "high_pd[['Country','Pop_Density_per_sq_mi_']]"
   ]
  },
  {
   "cell_type": "code",
   "execution_count": 51,
   "id": "08706fc4-0a0b-440d-943d-bc578b1b5f4d",
   "metadata": {},
   "outputs": [
    {
     "name": "stdout",
     "output_type": "stream",
     "text": [
      "Lowest population density: \n"
     ]
    },
    {
     "data": {
      "text/html": [
       "<div>\n",
       "<style scoped>\n",
       "    .dataframe tbody tr th:only-of-type {\n",
       "        vertical-align: middle;\n",
       "    }\n",
       "\n",
       "    .dataframe tbody tr th {\n",
       "        vertical-align: top;\n",
       "    }\n",
       "\n",
       "    .dataframe thead th {\n",
       "        text-align: right;\n",
       "    }\n",
       "</style>\n",
       "<table border=\"1\" class=\"dataframe\">\n",
       "  <thead>\n",
       "    <tr style=\"text-align: right;\">\n",
       "      <th></th>\n",
       "      <th>Country</th>\n",
       "      <th>Pop_Density_per_sq_mi_</th>\n",
       "    </tr>\n",
       "  </thead>\n",
       "  <tbody>\n",
       "    <tr>\n",
       "      <th>80</th>\n",
       "      <td>Greenland</td>\n",
       "      <td>0.0</td>\n",
       "    </tr>\n",
       "  </tbody>\n",
       "</table>\n",
       "</div>"
      ],
      "text/plain": [
       "       Country  Pop_Density_per_sq_mi_\n",
       "80  Greenland                      0.0"
      ]
     },
     "execution_count": 51,
     "metadata": {},
     "output_type": "execute_result"
    }
   ],
   "source": [
    "print('Lowest population density: ')\n",
    "low_pd[['Country','Pop_Density_per_sq_mi_']]"
   ]
  },
  {
   "cell_type": "markdown",
   "id": "6a9e3ddc-356a-4b0b-b478-71777e46db33",
   "metadata": {},
   "source": [
    "13.\tIs there any country with high population but low density?"
   ]
  },
  {
   "cell_type": "code",
   "execution_count": 60,
   "id": "3ec0524c-b548-4151-b19d-1e9ec7aba244",
   "metadata": {},
   "outputs": [
    {
     "data": {
      "text/html": [
       "<div>\n",
       "<style scoped>\n",
       "    .dataframe tbody tr th:only-of-type {\n",
       "        vertical-align: middle;\n",
       "    }\n",
       "\n",
       "    .dataframe tbody tr th {\n",
       "        vertical-align: top;\n",
       "    }\n",
       "\n",
       "    .dataframe thead th {\n",
       "        text-align: right;\n",
       "    }\n",
       "</style>\n",
       "<table border=\"1\" class=\"dataframe\">\n",
       "  <thead>\n",
       "    <tr style=\"text-align: right;\">\n",
       "      <th></th>\n",
       "      <th>Country</th>\n",
       "      <th>Population</th>\n",
       "      <th>Pop_Density_per_sq_mi_</th>\n",
       "    </tr>\n",
       "  </thead>\n",
       "  <tbody>\n",
       "    <tr>\n",
       "      <th>0</th>\n",
       "      <td>Afghanistan</td>\n",
       "      <td>31056997</td>\n",
       "      <td>48.0</td>\n",
       "    </tr>\n",
       "    <tr>\n",
       "      <th>2</th>\n",
       "      <td>Algeria</td>\n",
       "      <td>32930091</td>\n",
       "      <td>13.8</td>\n",
       "    </tr>\n",
       "    <tr>\n",
       "      <th>5</th>\n",
       "      <td>Angola</td>\n",
       "      <td>12127071</td>\n",
       "      <td>9.7</td>\n",
       "    </tr>\n",
       "    <tr>\n",
       "      <th>8</th>\n",
       "      <td>Argentina</td>\n",
       "      <td>39921833</td>\n",
       "      <td>14.4</td>\n",
       "    </tr>\n",
       "    <tr>\n",
       "      <th>11</th>\n",
       "      <td>Australia</td>\n",
       "      <td>20264082</td>\n",
       "      <td>2.6</td>\n",
       "    </tr>\n",
       "    <tr>\n",
       "      <th>...</th>\n",
       "      <td>...</td>\n",
       "      <td>...</td>\n",
       "      <td>...</td>\n",
       "    </tr>\n",
       "    <tr>\n",
       "      <th>216</th>\n",
       "      <td>Uzbekistan</td>\n",
       "      <td>27307134</td>\n",
       "      <td>61.0</td>\n",
       "    </tr>\n",
       "    <tr>\n",
       "      <th>218</th>\n",
       "      <td>Venezuela</td>\n",
       "      <td>25730435</td>\n",
       "      <td>28.2</td>\n",
       "    </tr>\n",
       "    <tr>\n",
       "      <th>224</th>\n",
       "      <td>Yemen</td>\n",
       "      <td>21456188</td>\n",
       "      <td>40.6</td>\n",
       "    </tr>\n",
       "    <tr>\n",
       "      <th>225</th>\n",
       "      <td>Zambia</td>\n",
       "      <td>11502010</td>\n",
       "      <td>15.3</td>\n",
       "    </tr>\n",
       "    <tr>\n",
       "      <th>226</th>\n",
       "      <td>Zimbabwe</td>\n",
       "      <td>12236805</td>\n",
       "      <td>31.3</td>\n",
       "    </tr>\n",
       "  </tbody>\n",
       "</table>\n",
       "<p>62 rows × 3 columns</p>\n",
       "</div>"
      ],
      "text/plain": [
       "          Country  Population  Pop_Density_per_sq_mi_\n",
       "0    Afghanistan     31056997                    48.0\n",
       "2        Algeria     32930091                    13.8\n",
       "5         Angola     12127071                     9.7\n",
       "8      Argentina     39921833                    14.4\n",
       "11     Australia     20264082                     2.6\n",
       "..            ...         ...                     ...\n",
       "216   Uzbekistan     27307134                    61.0\n",
       "218    Venezuela     25730435                    28.2\n",
       "224        Yemen     21456188                    40.6\n",
       "225       Zambia     11502010                    15.3\n",
       "226     Zimbabwe     12236805                    31.3\n",
       "\n",
       "[62 rows x 3 columns]"
      ]
     },
     "execution_count": 60,
     "metadata": {},
     "output_type": "execute_result"
    }
   ],
   "source": [
    "df[(df.Population > df.Population.median()) & (df.Pop_Density_per_sq_mi_ < df.Pop_Density_per_sq_mi_.median())][['Country','Population','Pop_Density_per_sq_mi_']]"
   ]
  },
  {
   "cell_type": "markdown",
   "id": "e40a52d8-4693-4bf1-a798-c578a459182d",
   "metadata": {},
   "source": [
    "14.\tAre there countries with similar populations but very different densities?"
   ]
  },
  {
   "cell_type": "code",
   "execution_count": 62,
   "id": "b7e520c9-e7b5-40c6-9d41-4c249f1fa209",
   "metadata": {},
   "outputs": [
    {
     "data": {
      "text/html": [
       "<div>\n",
       "<style scoped>\n",
       "    .dataframe tbody tr th:only-of-type {\n",
       "        vertical-align: middle;\n",
       "    }\n",
       "\n",
       "    .dataframe tbody tr th {\n",
       "        vertical-align: top;\n",
       "    }\n",
       "\n",
       "    .dataframe thead th {\n",
       "        text-align: right;\n",
       "    }\n",
       "</style>\n",
       "<table border=\"1\" class=\"dataframe\">\n",
       "  <thead>\n",
       "    <tr style=\"text-align: right;\">\n",
       "      <th></th>\n",
       "      <th>Country</th>\n",
       "      <th>Population</th>\n",
       "      <th>Pop_Density_per_sq_mi_</th>\n",
       "    </tr>\n",
       "  </thead>\n",
       "  <tbody>\n",
       "  </tbody>\n",
       "</table>\n",
       "</div>"
      ],
      "text/plain": [
       "Empty DataFrame\n",
       "Columns: [Country, Population, Pop_Density_per_sq_mi_]\n",
       "Index: []"
      ]
     },
     "execution_count": 62,
     "metadata": {},
     "output_type": "execute_result"
    }
   ],
   "source": [
    "df.groupby('Population').filter(lambda x: len(x)>1)[['Country','Population','Pop_Density_per_sq_mi_']]"
   ]
  },
  {
   "cell_type": "markdown",
   "id": "c79acfd7-bcc8-4378-b7d4-7cc6af5c4321",
   "metadata": {},
   "source": [
    "## 🐣 Birth, Death, and Migration"
   ]
  },
  {
   "cell_type": "markdown",
   "id": "edffd001-b80b-4405-bd1b-9eec7259b55f",
   "metadata": {},
   "source": [
    "15.\tWhich countries have the highest birth rates?"
   ]
  },
  {
   "cell_type": "code",
   "execution_count": 72,
   "id": "b82d555a-ed34-42b4-a131-ec1e978bbe2a",
   "metadata": {},
   "outputs": [
    {
     "data": {
      "text/html": [
       "<div>\n",
       "<style scoped>\n",
       "    .dataframe tbody tr th:only-of-type {\n",
       "        vertical-align: middle;\n",
       "    }\n",
       "\n",
       "    .dataframe tbody tr th {\n",
       "        vertical-align: top;\n",
       "    }\n",
       "\n",
       "    .dataframe thead th {\n",
       "        text-align: right;\n",
       "    }\n",
       "</style>\n",
       "<table border=\"1\" class=\"dataframe\">\n",
       "  <thead>\n",
       "    <tr style=\"text-align: right;\">\n",
       "      <th></th>\n",
       "      <th>Country</th>\n",
       "      <th>Birthrate</th>\n",
       "    </tr>\n",
       "  </thead>\n",
       "  <tbody>\n",
       "    <tr>\n",
       "      <th>151</th>\n",
       "      <td>Niger</td>\n",
       "      <td>50.73</td>\n",
       "    </tr>\n",
       "    <tr>\n",
       "      <th>128</th>\n",
       "      <td>Mali</td>\n",
       "      <td>49.82</td>\n",
       "    </tr>\n",
       "    <tr>\n",
       "      <th>210</th>\n",
       "      <td>Uganda</td>\n",
       "      <td>47.35</td>\n",
       "    </tr>\n",
       "    <tr>\n",
       "      <th>0</th>\n",
       "      <td>Afghanistan</td>\n",
       "      <td>46.60</td>\n",
       "    </tr>\n",
       "    <tr>\n",
       "      <th>183</th>\n",
       "      <td>Sierra Leone</td>\n",
       "      <td>45.76</td>\n",
       "    </tr>\n",
       "  </tbody>\n",
       "</table>\n",
       "</div>"
      ],
      "text/plain": [
       "           Country  Birthrate\n",
       "151         Niger       50.73\n",
       "128          Mali       49.82\n",
       "210        Uganda       47.35\n",
       "0     Afghanistan       46.60\n",
       "183  Sierra Leone       45.76"
      ]
     },
     "execution_count": 72,
     "metadata": {},
     "output_type": "execute_result"
    }
   ],
   "source": [
    "df.sort_values(by = 'Birthrate', ascending = False)[['Country','Birthrate']].head()"
   ]
  },
  {
   "cell_type": "markdown",
   "id": "b66b86d3-5cb0-43be-ba0f-c8c28cedbdc3",
   "metadata": {},
   "source": [
    "16.\tWhich countries have the highest death rates?"
   ]
  },
  {
   "cell_type": "code",
   "execution_count": 73,
   "id": "e0898024-a600-412c-9e64-b3eaea46cc5e",
   "metadata": {},
   "outputs": [
    {
     "data": {
      "text/html": [
       "<div>\n",
       "<style scoped>\n",
       "    .dataframe tbody tr th:only-of-type {\n",
       "        vertical-align: middle;\n",
       "    }\n",
       "\n",
       "    .dataframe tbody tr th {\n",
       "        vertical-align: top;\n",
       "    }\n",
       "\n",
       "    .dataframe thead th {\n",
       "        text-align: right;\n",
       "    }\n",
       "</style>\n",
       "<table border=\"1\" class=\"dataframe\">\n",
       "  <thead>\n",
       "    <tr style=\"text-align: right;\">\n",
       "      <th></th>\n",
       "      <th>Country</th>\n",
       "      <th>Deathrate</th>\n",
       "    </tr>\n",
       "  </thead>\n",
       "  <tbody>\n",
       "    <tr>\n",
       "      <th>194</th>\n",
       "      <td>Swaziland</td>\n",
       "      <td>29.74</td>\n",
       "    </tr>\n",
       "    <tr>\n",
       "      <th>26</th>\n",
       "      <td>Botswana</td>\n",
       "      <td>29.50</td>\n",
       "    </tr>\n",
       "    <tr>\n",
       "      <th>116</th>\n",
       "      <td>Lesotho</td>\n",
       "      <td>28.71</td>\n",
       "    </tr>\n",
       "    <tr>\n",
       "      <th>5</th>\n",
       "      <td>Angola</td>\n",
       "      <td>24.20</td>\n",
       "    </tr>\n",
       "    <tr>\n",
       "      <th>117</th>\n",
       "      <td>Liberia</td>\n",
       "      <td>23.10</td>\n",
       "    </tr>\n",
       "  </tbody>\n",
       "</table>\n",
       "</div>"
      ],
      "text/plain": [
       "        Country  Deathrate\n",
       "194  Swaziland       29.74\n",
       "26    Botswana       29.50\n",
       "116    Lesotho       28.71\n",
       "5       Angola       24.20\n",
       "117    Liberia       23.10"
      ]
     },
     "execution_count": 73,
     "metadata": {},
     "output_type": "execute_result"
    }
   ],
   "source": [
    "df.sort_values(by = 'Deathrate', ascending = False)[['Country','Deathrate']].head()"
   ]
  },
  {
   "cell_type": "markdown",
   "id": "31479170-b741-4e0e-990a-bfa189c0ec2c",
   "metadata": {},
   "source": [
    "17.\tWhich countries have the highest net migration rates?"
   ]
  },
  {
   "cell_type": "code",
   "execution_count": 75,
   "id": "c4ae994b-b09a-42c1-ab02-6f6676410e75",
   "metadata": {},
   "outputs": [
    {
     "data": {
      "text/html": [
       "<div>\n",
       "<style scoped>\n",
       "    .dataframe tbody tr th:only-of-type {\n",
       "        vertical-align: middle;\n",
       "    }\n",
       "\n",
       "    .dataframe tbody tr th {\n",
       "        vertical-align: top;\n",
       "    }\n",
       "\n",
       "    .dataframe thead th {\n",
       "        text-align: right;\n",
       "    }\n",
       "</style>\n",
       "<table border=\"1\" class=\"dataframe\">\n",
       "  <thead>\n",
       "    <tr style=\"text-align: right;\">\n",
       "      <th></th>\n",
       "      <th>Country</th>\n",
       "      <th>Net_migration</th>\n",
       "    </tr>\n",
       "  </thead>\n",
       "  <tbody>\n",
       "    <tr>\n",
       "      <th>0</th>\n",
       "      <td>Afghanistan</td>\n",
       "      <td>23.06</td>\n",
       "    </tr>\n",
       "    <tr>\n",
       "      <th>38</th>\n",
       "      <td>Cayman Islands</td>\n",
       "      <td>18.75</td>\n",
       "    </tr>\n",
       "    <tr>\n",
       "      <th>166</th>\n",
       "      <td>Qatar</td>\n",
       "      <td>16.29</td>\n",
       "    </tr>\n",
       "    <tr>\n",
       "      <th>111</th>\n",
       "      <td>Kuwait</td>\n",
       "      <td>14.18</td>\n",
       "    </tr>\n",
       "    <tr>\n",
       "      <th>208</th>\n",
       "      <td>Turks &amp; Caicos Is</td>\n",
       "      <td>11.68</td>\n",
       "    </tr>\n",
       "  </tbody>\n",
       "</table>\n",
       "</div>"
      ],
      "text/plain": [
       "                Country  Net_migration\n",
       "0          Afghanistan           23.06\n",
       "38      Cayman Islands           18.75\n",
       "166              Qatar           16.29\n",
       "111             Kuwait           14.18\n",
       "208  Turks & Caicos Is           11.68"
      ]
     },
     "execution_count": 75,
     "metadata": {},
     "output_type": "execute_result"
    }
   ],
   "source": [
    "df.sort_values(by = 'Net_migration', ascending = False)[['Country','Net_migration']].head()"
   ]
  },
  {
   "cell_type": "markdown",
   "id": "db638a33-a212-40fb-a83e-0795e0d4893b",
   "metadata": {},
   "source": [
    "18.\tAre there any countries with negative net migration?"
   ]
  },
  {
   "cell_type": "code",
   "execution_count": 81,
   "id": "4ff14b41-56cf-431f-a456-75efeba30057",
   "metadata": {},
   "outputs": [
    {
     "data": {
      "text/html": [
       "<div>\n",
       "<style scoped>\n",
       "    .dataframe tbody tr th:only-of-type {\n",
       "        vertical-align: middle;\n",
       "    }\n",
       "\n",
       "    .dataframe tbody tr th {\n",
       "        vertical-align: top;\n",
       "    }\n",
       "\n",
       "    .dataframe thead th {\n",
       "        text-align: right;\n",
       "    }\n",
       "</style>\n",
       "<table border=\"1\" class=\"dataframe\">\n",
       "  <thead>\n",
       "    <tr style=\"text-align: right;\">\n",
       "      <th></th>\n",
       "      <th>Country</th>\n",
       "      <th>Net_migration</th>\n",
       "    </tr>\n",
       "  </thead>\n",
       "  <tbody>\n",
       "    <tr>\n",
       "      <th>136</th>\n",
       "      <td>Micronesia, Fed. St.</td>\n",
       "      <td>-20.99</td>\n",
       "    </tr>\n",
       "    <tr>\n",
       "      <th>3</th>\n",
       "      <td>American Samoa</td>\n",
       "      <td>-20.71</td>\n",
       "    </tr>\n",
       "    <tr>\n",
       "      <th>81</th>\n",
       "      <td>Grenada</td>\n",
       "      <td>-13.92</td>\n",
       "    </tr>\n",
       "    <tr>\n",
       "      <th>56</th>\n",
       "      <td>Dominica</td>\n",
       "      <td>-13.87</td>\n",
       "    </tr>\n",
       "    <tr>\n",
       "      <th>37</th>\n",
       "      <td>Cape Verde</td>\n",
       "      <td>-12.07</td>\n",
       "    </tr>\n",
       "  </tbody>\n",
       "</table>\n",
       "</div>"
      ],
      "text/plain": [
       "                   Country  Net_migration\n",
       "136  Micronesia, Fed. St.          -20.99\n",
       "3          American Samoa          -20.71\n",
       "81                Grenada          -13.92\n",
       "56               Dominica          -13.87\n",
       "37             Cape Verde          -12.07"
      ]
     },
     "execution_count": 81,
     "metadata": {},
     "output_type": "execute_result"
    }
   ],
   "source": [
    "df[df['Net_migration']<0].sort_values(by = 'Net_migration')[['Country','Net_migration']].head()"
   ]
  },
  {
   "cell_type": "markdown",
   "id": "43a64314-09c1-4230-806d-8c690ddd6cfc",
   "metadata": {},
   "source": [
    "## 💸 Economy and Services"
   ]
  },
  {
   "cell_type": "markdown",
   "id": "c95bbed2-8f45-497e-8b63-90cdb56c8f71",
   "metadata": {},
   "source": [
    "19.\tWhat is the range of GDP per capita across countries?"
   ]
  },
  {
   "cell_type": "code",
   "execution_count": 83,
   "id": "40e3709d-5a31-4a0c-bacb-41ad77947fd9",
   "metadata": {},
   "outputs": [
    {
     "data": {
      "text/html": [
       "<div>\n",
       "<style scoped>\n",
       "    .dataframe tbody tr th:only-of-type {\n",
       "        vertical-align: middle;\n",
       "    }\n",
       "\n",
       "    .dataframe tbody tr th {\n",
       "        vertical-align: top;\n",
       "    }\n",
       "\n",
       "    .dataframe thead tr th {\n",
       "        text-align: left;\n",
       "    }\n",
       "\n",
       "    .dataframe thead tr:last-of-type th {\n",
       "        text-align: right;\n",
       "    }\n",
       "</style>\n",
       "<table border=\"1\" class=\"dataframe\">\n",
       "  <thead>\n",
       "    <tr>\n",
       "      <th></th>\n",
       "      <th colspan=\"2\" halign=\"left\">GDP_dollar_per_capita_</th>\n",
       "    </tr>\n",
       "    <tr>\n",
       "      <th></th>\n",
       "      <th>max</th>\n",
       "      <th>min</th>\n",
       "    </tr>\n",
       "    <tr>\n",
       "      <th>Country</th>\n",
       "      <th></th>\n",
       "      <th></th>\n",
       "    </tr>\n",
       "  </thead>\n",
       "  <tbody>\n",
       "    <tr>\n",
       "      <th>Afghanistan</th>\n",
       "      <td>700.0</td>\n",
       "      <td>700.0</td>\n",
       "    </tr>\n",
       "    <tr>\n",
       "      <th>Albania</th>\n",
       "      <td>4500.0</td>\n",
       "      <td>4500.0</td>\n",
       "    </tr>\n",
       "    <tr>\n",
       "      <th>Algeria</th>\n",
       "      <td>6000.0</td>\n",
       "      <td>6000.0</td>\n",
       "    </tr>\n",
       "    <tr>\n",
       "      <th>American Samoa</th>\n",
       "      <td>8000.0</td>\n",
       "      <td>8000.0</td>\n",
       "    </tr>\n",
       "    <tr>\n",
       "      <th>Andorra</th>\n",
       "      <td>19000.0</td>\n",
       "      <td>19000.0</td>\n",
       "    </tr>\n",
       "    <tr>\n",
       "      <th>...</th>\n",
       "      <td>...</td>\n",
       "      <td>...</td>\n",
       "    </tr>\n",
       "    <tr>\n",
       "      <th>West Bank</th>\n",
       "      <td>800.0</td>\n",
       "      <td>800.0</td>\n",
       "    </tr>\n",
       "    <tr>\n",
       "      <th>Western Sahara</th>\n",
       "      <td>NaN</td>\n",
       "      <td>NaN</td>\n",
       "    </tr>\n",
       "    <tr>\n",
       "      <th>Yemen</th>\n",
       "      <td>800.0</td>\n",
       "      <td>800.0</td>\n",
       "    </tr>\n",
       "    <tr>\n",
       "      <th>Zambia</th>\n",
       "      <td>800.0</td>\n",
       "      <td>800.0</td>\n",
       "    </tr>\n",
       "    <tr>\n",
       "      <th>Zimbabwe</th>\n",
       "      <td>1900.0</td>\n",
       "      <td>1900.0</td>\n",
       "    </tr>\n",
       "  </tbody>\n",
       "</table>\n",
       "<p>227 rows × 2 columns</p>\n",
       "</div>"
      ],
      "text/plain": [
       "                GDP_dollar_per_capita_         \n",
       "                                   max      min\n",
       "Country                                        \n",
       "Afghanistan                      700.0    700.0\n",
       "Albania                         4500.0   4500.0\n",
       "Algeria                         6000.0   6000.0\n",
       "American Samoa                  8000.0   8000.0\n",
       "Andorra                        19000.0  19000.0\n",
       "...                                ...      ...\n",
       "West Bank                        800.0    800.0\n",
       "Western Sahara                     NaN      NaN\n",
       "Yemen                            800.0    800.0\n",
       "Zambia                           800.0    800.0\n",
       "Zimbabwe                        1900.0   1900.0\n",
       "\n",
       "[227 rows x 2 columns]"
      ]
     },
     "execution_count": 83,
     "metadata": {},
     "output_type": "execute_result"
    }
   ],
   "source": [
    "df.groupby('Country').agg({'GDP_dollar_per_capita_': ['max', 'min']})"
   ]
  },
  {
   "cell_type": "markdown",
   "id": "02cfc5ba-be28-4076-9720-0dbcca75cb3a",
   "metadata": {},
   "source": [
    "20.\tWhich countries have the highest and lowest GDP per capita?"
   ]
  },
  {
   "cell_type": "code",
   "execution_count": 86,
   "id": "323bdc5c-b2fc-4011-9ec7-8c70cee195b7",
   "metadata": {},
   "outputs": [
    {
     "data": {
      "text/html": [
       "<div>\n",
       "<style scoped>\n",
       "    .dataframe tbody tr th:only-of-type {\n",
       "        vertical-align: middle;\n",
       "    }\n",
       "\n",
       "    .dataframe tbody tr th {\n",
       "        vertical-align: top;\n",
       "    }\n",
       "\n",
       "    .dataframe thead th {\n",
       "        text-align: right;\n",
       "    }\n",
       "</style>\n",
       "<table border=\"1\" class=\"dataframe\">\n",
       "  <thead>\n",
       "    <tr style=\"text-align: right;\">\n",
       "      <th></th>\n",
       "      <th>Country</th>\n",
       "      <th>GDP_dollar_per_capita_</th>\n",
       "    </tr>\n",
       "  </thead>\n",
       "  <tbody>\n",
       "    <tr>\n",
       "      <th>121</th>\n",
       "      <td>Luxembourg</td>\n",
       "      <td>55100.0</td>\n",
       "    </tr>\n",
       "  </tbody>\n",
       "</table>\n",
       "</div>"
      ],
      "text/plain": [
       "         Country  GDP_dollar_per_capita_\n",
       "121  Luxembourg                  55100.0"
      ]
     },
     "execution_count": 86,
     "metadata": {},
     "output_type": "execute_result"
    }
   ],
   "source": [
    "df.sort_values(by='GDP_dollar_per_capita_', ascending=False)[['Country','GDP_dollar_per_capita_']].head(1)"
   ]
  },
  {
   "cell_type": "code",
   "execution_count": 87,
   "id": "deaa15de-638b-48de-bef5-cec1e23a1d0b",
   "metadata": {},
   "outputs": [
    {
     "data": {
      "text/html": [
       "<div>\n",
       "<style scoped>\n",
       "    .dataframe tbody tr th:only-of-type {\n",
       "        vertical-align: middle;\n",
       "    }\n",
       "\n",
       "    .dataframe tbody tr th {\n",
       "        vertical-align: top;\n",
       "    }\n",
       "\n",
       "    .dataframe thead th {\n",
       "        text-align: right;\n",
       "    }\n",
       "</style>\n",
       "<table border=\"1\" class=\"dataframe\">\n",
       "  <thead>\n",
       "    <tr style=\"text-align: right;\">\n",
       "      <th></th>\n",
       "      <th>Country</th>\n",
       "      <th>GDP_dollar_per_capita_</th>\n",
       "    </tr>\n",
       "  </thead>\n",
       "  <tbody>\n",
       "    <tr>\n",
       "      <th>58</th>\n",
       "      <td>East Timor</td>\n",
       "      <td>500.0</td>\n",
       "    </tr>\n",
       "  </tbody>\n",
       "</table>\n",
       "</div>"
      ],
      "text/plain": [
       "        Country  GDP_dollar_per_capita_\n",
       "58  East Timor                    500.0"
      ]
     },
     "execution_count": 87,
     "metadata": {},
     "output_type": "execute_result"
    }
   ],
   "source": [
    "df.sort_values(by='GDP_dollar_per_capita_', ascending=True)[['Country','GDP_dollar_per_capita_']].head(1)"
   ]
  },
  {
   "cell_type": "markdown",
   "id": "6f2fc81d-38b4-499f-8038-ad237ced2b49",
   "metadata": {},
   "source": [
    "21.\tAre there countries with high GDP but low literacy?"
   ]
  },
  {
   "cell_type": "code",
   "execution_count": 95,
   "id": "4a5d866f-598a-4294-9c2d-6ca2134a8591",
   "metadata": {},
   "outputs": [
    {
     "data": {
      "text/html": [
       "<div>\n",
       "<style scoped>\n",
       "    .dataframe tbody tr th:only-of-type {\n",
       "        vertical-align: middle;\n",
       "    }\n",
       "\n",
       "    .dataframe tbody tr th {\n",
       "        vertical-align: top;\n",
       "    }\n",
       "\n",
       "    .dataframe thead th {\n",
       "        text-align: right;\n",
       "    }\n",
       "</style>\n",
       "<table border=\"1\" class=\"dataframe\">\n",
       "  <thead>\n",
       "    <tr style=\"text-align: right;\">\n",
       "      <th></th>\n",
       "      <th>Country</th>\n",
       "      <th>GDP_dollar_per_capita_</th>\n",
       "      <th>Literacy_pct_</th>\n",
       "    </tr>\n",
       "  </thead>\n",
       "  <tbody>\n",
       "    <tr>\n",
       "      <th>0</th>\n",
       "      <td>Afghanistan</td>\n",
       "      <td>700.0</td>\n",
       "      <td>36.0</td>\n",
       "    </tr>\n",
       "    <tr>\n",
       "      <th>1</th>\n",
       "      <td>Albania</td>\n",
       "      <td>4500.0</td>\n",
       "      <td>86.5</td>\n",
       "    </tr>\n",
       "    <tr>\n",
       "      <th>2</th>\n",
       "      <td>Algeria</td>\n",
       "      <td>6000.0</td>\n",
       "      <td>70.0</td>\n",
       "    </tr>\n",
       "    <tr>\n",
       "      <th>3</th>\n",
       "      <td>American Samoa</td>\n",
       "      <td>8000.0</td>\n",
       "      <td>97.0</td>\n",
       "    </tr>\n",
       "    <tr>\n",
       "      <th>4</th>\n",
       "      <td>Andorra</td>\n",
       "      <td>19000.0</td>\n",
       "      <td>100.0</td>\n",
       "    </tr>\n",
       "    <tr>\n",
       "      <th>5</th>\n",
       "      <td>Angola</td>\n",
       "      <td>1900.0</td>\n",
       "      <td>42.0</td>\n",
       "    </tr>\n",
       "    <tr>\n",
       "      <th>6</th>\n",
       "      <td>Anguilla</td>\n",
       "      <td>8600.0</td>\n",
       "      <td>95.0</td>\n",
       "    </tr>\n",
       "    <tr>\n",
       "      <th>7</th>\n",
       "      <td>Antigua &amp; Barbuda</td>\n",
       "      <td>11000.0</td>\n",
       "      <td>89.0</td>\n",
       "    </tr>\n",
       "    <tr>\n",
       "      <th>8</th>\n",
       "      <td>Argentina</td>\n",
       "      <td>11200.0</td>\n",
       "      <td>97.1</td>\n",
       "    </tr>\n",
       "    <tr>\n",
       "      <th>9</th>\n",
       "      <td>Armenia</td>\n",
       "      <td>3500.0</td>\n",
       "      <td>98.6</td>\n",
       "    </tr>\n",
       "  </tbody>\n",
       "</table>\n",
       "</div>"
      ],
      "text/plain": [
       "              Country  GDP_dollar_per_capita_  Literacy_pct_\n",
       "0        Afghanistan                    700.0           36.0\n",
       "1            Albania                   4500.0           86.5\n",
       "2            Algeria                   6000.0           70.0\n",
       "3     American Samoa                   8000.0           97.0\n",
       "4            Andorra                  19000.0          100.0\n",
       "5             Angola                   1900.0           42.0\n",
       "6           Anguilla                   8600.0           95.0\n",
       "7  Antigua & Barbuda                  11000.0           89.0\n",
       "8          Argentina                  11200.0           97.1\n",
       "9            Armenia                   3500.0           98.6"
      ]
     },
     "execution_count": 95,
     "metadata": {},
     "output_type": "execute_result"
    }
   ],
   "source": [
    "df[(df['GDP_dollar_per_capita_']> df['GDP_dollar_per_capita_'].median()) & df['Literacy_pct_']< df['Literacy_pct_'].median()][['Country','GDP_dollar_per_capita_','Literacy_pct_']].head(10)"
   ]
  },
  {
   "cell_type": "markdown",
   "id": "c7496000-b528-4904-bf5c-b04b709cc0b6",
   "metadata": {},
   "source": [
    "22.\tWhich countries have agriculture as the main contributor to their economy?"
   ]
  },
  {
   "cell_type": "code",
   "execution_count": 107,
   "id": "152fb120-7ea6-406a-bb11-b17ec420f801",
   "metadata": {},
   "outputs": [
    {
     "data": {
      "text/html": [
       "<div>\n",
       "<style scoped>\n",
       "    .dataframe tbody tr th:only-of-type {\n",
       "        vertical-align: middle;\n",
       "    }\n",
       "\n",
       "    .dataframe tbody tr th {\n",
       "        vertical-align: top;\n",
       "    }\n",
       "\n",
       "    .dataframe thead th {\n",
       "        text-align: right;\n",
       "    }\n",
       "</style>\n",
       "<table border=\"1\" class=\"dataframe\">\n",
       "  <thead>\n",
       "    <tr style=\"text-align: right;\">\n",
       "      <th></th>\n",
       "      <th>Country</th>\n",
       "      <th>Agriculture</th>\n",
       "      <th>Industry</th>\n",
       "      <th>Service</th>\n",
       "    </tr>\n",
       "  </thead>\n",
       "  <tbody>\n",
       "    <tr>\n",
       "      <th>32</th>\n",
       "      <td>Burma</td>\n",
       "      <td>0.564</td>\n",
       "      <td>0.082</td>\n",
       "      <td>0.353</td>\n",
       "    </tr>\n",
       "    <tr>\n",
       "      <th>33</th>\n",
       "      <td>Burundi</td>\n",
       "      <td>0.463</td>\n",
       "      <td>0.203</td>\n",
       "      <td>0.334</td>\n",
       "    </tr>\n",
       "    <tr>\n",
       "      <th>35</th>\n",
       "      <td>Cameroon</td>\n",
       "      <td>0.448</td>\n",
       "      <td>0.170</td>\n",
       "      <td>0.382</td>\n",
       "    </tr>\n",
       "    <tr>\n",
       "      <th>39</th>\n",
       "      <td>Central African Rep.</td>\n",
       "      <td>0.550</td>\n",
       "      <td>0.200</td>\n",
       "      <td>0.250</td>\n",
       "    </tr>\n",
       "    <tr>\n",
       "      <th>45</th>\n",
       "      <td>Congo, Dem. Rep.</td>\n",
       "      <td>0.550</td>\n",
       "      <td>0.110</td>\n",
       "      <td>0.340</td>\n",
       "    </tr>\n",
       "    <tr>\n",
       "      <th>65</th>\n",
       "      <td>Ethiopia</td>\n",
       "      <td>0.475</td>\n",
       "      <td>0.099</td>\n",
       "      <td>0.426</td>\n",
       "    </tr>\n",
       "    <tr>\n",
       "      <th>87</th>\n",
       "      <td>Guinea-Bissau</td>\n",
       "      <td>0.620</td>\n",
       "      <td>0.120</td>\n",
       "      <td>0.260</td>\n",
       "    </tr>\n",
       "    <tr>\n",
       "      <th>113</th>\n",
       "      <td>Laos</td>\n",
       "      <td>0.455</td>\n",
       "      <td>0.287</td>\n",
       "      <td>0.258</td>\n",
       "    </tr>\n",
       "    <tr>\n",
       "      <th>117</th>\n",
       "      <td>Liberia</td>\n",
       "      <td>0.769</td>\n",
       "      <td>0.054</td>\n",
       "      <td>0.177</td>\n",
       "    </tr>\n",
       "    <tr>\n",
       "      <th>128</th>\n",
       "      <td>Mali</td>\n",
       "      <td>0.450</td>\n",
       "      <td>0.170</td>\n",
       "      <td>0.380</td>\n",
       "    </tr>\n",
       "    <tr>\n",
       "      <th>170</th>\n",
       "      <td>Rwanda</td>\n",
       "      <td>0.401</td>\n",
       "      <td>0.229</td>\n",
       "      <td>0.370</td>\n",
       "    </tr>\n",
       "    <tr>\n",
       "      <th>183</th>\n",
       "      <td>Sierra Leone</td>\n",
       "      <td>0.490</td>\n",
       "      <td>0.310</td>\n",
       "      <td>0.210</td>\n",
       "    </tr>\n",
       "    <tr>\n",
       "      <th>188</th>\n",
       "      <td>Somalia</td>\n",
       "      <td>0.650</td>\n",
       "      <td>0.100</td>\n",
       "      <td>0.250</td>\n",
       "    </tr>\n",
       "    <tr>\n",
       "      <th>200</th>\n",
       "      <td>Tanzania</td>\n",
       "      <td>0.432</td>\n",
       "      <td>0.172</td>\n",
       "      <td>0.396</td>\n",
       "    </tr>\n",
       "  </tbody>\n",
       "</table>\n",
       "</div>"
      ],
      "text/plain": [
       "                   Country  Agriculture  Industry  Service\n",
       "32                  Burma         0.564     0.082    0.353\n",
       "33                Burundi         0.463     0.203    0.334\n",
       "35               Cameroon         0.448     0.170    0.382\n",
       "39   Central African Rep.         0.550     0.200    0.250\n",
       "45       Congo, Dem. Rep.         0.550     0.110    0.340\n",
       "65               Ethiopia         0.475     0.099    0.426\n",
       "87          Guinea-Bissau         0.620     0.120    0.260\n",
       "113                  Laos         0.455     0.287    0.258\n",
       "117               Liberia         0.769     0.054    0.177\n",
       "128                  Mali         0.450     0.170    0.380\n",
       "170                Rwanda         0.401     0.229    0.370\n",
       "183          Sierra Leone         0.490     0.310    0.210\n",
       "188               Somalia         0.650     0.100    0.250\n",
       "200              Tanzania         0.432     0.172    0.396"
      ]
     },
     "execution_count": 107,
     "metadata": {},
     "output_type": "execute_result"
    }
   ],
   "source": [
    "df[df['Agriculture'] > df[['Industry','Service']].max(axis=1)][['Country','Agriculture','Industry','Service']]"
   ]
  },
  {
   "cell_type": "markdown",
   "id": "e985f427-24da-49da-9e5d-49ef98fa879f",
   "metadata": {},
   "source": [
    "23.\tWhich countries are more service-oriented?"
   ]
  },
  {
   "cell_type": "code",
   "execution_count": 108,
   "id": "6c13a17c-ab03-4fb3-8da9-7d5ac40ca62d",
   "metadata": {},
   "outputs": [
    {
     "data": {
      "text/html": [
       "<div>\n",
       "<style scoped>\n",
       "    .dataframe tbody tr th:only-of-type {\n",
       "        vertical-align: middle;\n",
       "    }\n",
       "\n",
       "    .dataframe tbody tr th {\n",
       "        vertical-align: top;\n",
       "    }\n",
       "\n",
       "    .dataframe thead th {\n",
       "        text-align: right;\n",
       "    }\n",
       "</style>\n",
       "<table border=\"1\" class=\"dataframe\">\n",
       "  <thead>\n",
       "    <tr style=\"text-align: right;\">\n",
       "      <th></th>\n",
       "      <th>Country</th>\n",
       "      <th>Service</th>\n",
       "      <th>Industry</th>\n",
       "      <th>Agriculture</th>\n",
       "    </tr>\n",
       "  </thead>\n",
       "  <tbody>\n",
       "    <tr>\n",
       "      <th>1</th>\n",
       "      <td>Albania</td>\n",
       "      <td>0.579</td>\n",
       "      <td>0.188</td>\n",
       "      <td>0.232</td>\n",
       "    </tr>\n",
       "    <tr>\n",
       "      <th>6</th>\n",
       "      <td>Anguilla</td>\n",
       "      <td>0.780</td>\n",
       "      <td>0.180</td>\n",
       "      <td>0.040</td>\n",
       "    </tr>\n",
       "    <tr>\n",
       "      <th>7</th>\n",
       "      <td>Antigua &amp; Barbuda</td>\n",
       "      <td>0.743</td>\n",
       "      <td>0.220</td>\n",
       "      <td>0.038</td>\n",
       "    </tr>\n",
       "    <tr>\n",
       "      <th>8</th>\n",
       "      <td>Argentina</td>\n",
       "      <td>0.547</td>\n",
       "      <td>0.358</td>\n",
       "      <td>0.095</td>\n",
       "    </tr>\n",
       "    <tr>\n",
       "      <th>9</th>\n",
       "      <td>Armenia</td>\n",
       "      <td>0.418</td>\n",
       "      <td>0.343</td>\n",
       "      <td>0.239</td>\n",
       "    </tr>\n",
       "    <tr>\n",
       "      <th>...</th>\n",
       "      <td>...</td>\n",
       "      <td>...</td>\n",
       "      <td>...</td>\n",
       "      <td>...</td>\n",
       "    </tr>\n",
       "    <tr>\n",
       "      <th>218</th>\n",
       "      <td>Venezuela</td>\n",
       "      <td>0.541</td>\n",
       "      <td>0.419</td>\n",
       "      <td>0.040</td>\n",
       "    </tr>\n",
       "    <tr>\n",
       "      <th>220</th>\n",
       "      <td>Virgin Islands</td>\n",
       "      <td>0.800</td>\n",
       "      <td>0.190</td>\n",
       "      <td>0.010</td>\n",
       "    </tr>\n",
       "    <tr>\n",
       "      <th>222</th>\n",
       "      <td>West Bank</td>\n",
       "      <td>0.630</td>\n",
       "      <td>0.280</td>\n",
       "      <td>0.090</td>\n",
       "    </tr>\n",
       "    <tr>\n",
       "      <th>225</th>\n",
       "      <td>Zambia</td>\n",
       "      <td>0.489</td>\n",
       "      <td>0.290</td>\n",
       "      <td>0.220</td>\n",
       "    </tr>\n",
       "    <tr>\n",
       "      <th>226</th>\n",
       "      <td>Zimbabwe</td>\n",
       "      <td>0.579</td>\n",
       "      <td>0.243</td>\n",
       "      <td>0.179</td>\n",
       "    </tr>\n",
       "  </tbody>\n",
       "</table>\n",
       "<p>169 rows × 4 columns</p>\n",
       "</div>"
      ],
      "text/plain": [
       "                Country  Service  Industry  Agriculture\n",
       "1              Albania     0.579     0.188        0.232\n",
       "6             Anguilla     0.780     0.180        0.040\n",
       "7    Antigua & Barbuda     0.743     0.220        0.038\n",
       "8            Argentina     0.547     0.358        0.095\n",
       "9              Armenia     0.418     0.343        0.239\n",
       "..                  ...      ...       ...          ...\n",
       "218          Venezuela     0.541     0.419        0.040\n",
       "220     Virgin Islands     0.800     0.190        0.010\n",
       "222          West Bank     0.630     0.280        0.090\n",
       "225             Zambia     0.489     0.290        0.220\n",
       "226           Zimbabwe     0.579     0.243        0.179\n",
       "\n",
       "[169 rows x 4 columns]"
      ]
     },
     "execution_count": 108,
     "metadata": {},
     "output_type": "execute_result"
    }
   ],
   "source": [
    "df[df['Service'] > df[['Industry','Agriculture']].max(axis=1)][['Country','Service','Industry','Agriculture']]"
   ]
  },
  {
   "cell_type": "markdown",
   "id": "4c2d054b-17f0-4d3e-9713-fb11a822a42b",
   "metadata": {},
   "source": [
    "## 👶 Health and Literacy"
   ]
  },
  {
   "cell_type": "markdown",
   "id": "c8256dd3-c21d-4fd3-a935-81a128d09477",
   "metadata": {},
   "source": [
    "24.\tWhich countries have the highest infant mortality rates?"
   ]
  },
  {
   "cell_type": "code",
   "execution_count": 112,
   "id": "fbe245fd-9f91-4568-bbff-01994c4958e6",
   "metadata": {},
   "outputs": [
    {
     "data": {
      "text/html": [
       "<div>\n",
       "<style scoped>\n",
       "    .dataframe tbody tr th:only-of-type {\n",
       "        vertical-align: middle;\n",
       "    }\n",
       "\n",
       "    .dataframe tbody tr th {\n",
       "        vertical-align: top;\n",
       "    }\n",
       "\n",
       "    .dataframe thead th {\n",
       "        text-align: right;\n",
       "    }\n",
       "</style>\n",
       "<table border=\"1\" class=\"dataframe\">\n",
       "  <thead>\n",
       "    <tr style=\"text-align: right;\">\n",
       "      <th></th>\n",
       "      <th>Country</th>\n",
       "      <th>Infant_mortality_per_1000_births_</th>\n",
       "    </tr>\n",
       "  </thead>\n",
       "  <tbody>\n",
       "    <tr>\n",
       "      <th>5</th>\n",
       "      <td>Angola</td>\n",
       "      <td>191.19</td>\n",
       "    </tr>\n",
       "    <tr>\n",
       "      <th>0</th>\n",
       "      <td>Afghanistan</td>\n",
       "      <td>163.07</td>\n",
       "    </tr>\n",
       "    <tr>\n",
       "      <th>183</th>\n",
       "      <td>Sierra Leone</td>\n",
       "      <td>143.64</td>\n",
       "    </tr>\n",
       "    <tr>\n",
       "      <th>142</th>\n",
       "      <td>Mozambique</td>\n",
       "      <td>130.79</td>\n",
       "    </tr>\n",
       "    <tr>\n",
       "      <th>117</th>\n",
       "      <td>Liberia</td>\n",
       "      <td>128.87</td>\n",
       "    </tr>\n",
       "  </tbody>\n",
       "</table>\n",
       "</div>"
      ],
      "text/plain": [
       "           Country  Infant_mortality_per_1000_births_\n",
       "5          Angola                              191.19\n",
       "0     Afghanistan                              163.07\n",
       "183  Sierra Leone                              143.64\n",
       "142    Mozambique                              130.79\n",
       "117       Liberia                              128.87"
      ]
     },
     "execution_count": 112,
     "metadata": {},
     "output_type": "execute_result"
    }
   ],
   "source": [
    "df.sort_values(by = 'Infant_mortality_per_1000_births_', ascending=False)[['Country','Infant_mortality_per_1000_births_']].head(5)"
   ]
  },
  {
   "cell_type": "markdown",
   "id": "c793681d-a146-41ea-a6a3-e57695a0bd3c",
   "metadata": {},
   "source": [
    "25.\tAre there countries with low GDP but high literacy rates?"
   ]
  },
  {
   "cell_type": "code",
   "execution_count": 120,
   "id": "e8b8010a-cfb1-4cb0-b98b-ce3de7cd86b6",
   "metadata": {},
   "outputs": [
    {
     "data": {
      "text/html": [
       "<div>\n",
       "<style scoped>\n",
       "    .dataframe tbody tr th:only-of-type {\n",
       "        vertical-align: middle;\n",
       "    }\n",
       "\n",
       "    .dataframe tbody tr th {\n",
       "        vertical-align: top;\n",
       "    }\n",
       "\n",
       "    .dataframe thead th {\n",
       "        text-align: right;\n",
       "    }\n",
       "</style>\n",
       "<table border=\"1\" class=\"dataframe\">\n",
       "  <thead>\n",
       "    <tr style=\"text-align: right;\">\n",
       "      <th></th>\n",
       "      <th>Country</th>\n",
       "      <th>GDP_dollar_per_capita_</th>\n",
       "      <th>Literacy_pct_</th>\n",
       "    </tr>\n",
       "  </thead>\n",
       "  <tbody>\n",
       "    <tr>\n",
       "      <th>9</th>\n",
       "      <td>Armenia</td>\n",
       "      <td>3500.0</td>\n",
       "      <td>98.6</td>\n",
       "    </tr>\n",
       "    <tr>\n",
       "      <th>13</th>\n",
       "      <td>Azerbaijan</td>\n",
       "      <td>3400.0</td>\n",
       "      <td>97.0</td>\n",
       "    </tr>\n",
       "    <tr>\n",
       "      <th>20</th>\n",
       "      <td>Belize</td>\n",
       "      <td>4900.0</td>\n",
       "      <td>94.1</td>\n",
       "    </tr>\n",
       "    <tr>\n",
       "      <th>47</th>\n",
       "      <td>Cook Islands</td>\n",
       "      <td>5000.0</td>\n",
       "      <td>95.0</td>\n",
       "    </tr>\n",
       "    <tr>\n",
       "      <th>51</th>\n",
       "      <td>Cuba</td>\n",
       "      <td>2900.0</td>\n",
       "      <td>97.0</td>\n",
       "    </tr>\n",
       "    <tr>\n",
       "      <th>56</th>\n",
       "      <td>Dominica</td>\n",
       "      <td>5400.0</td>\n",
       "      <td>94.0</td>\n",
       "    </tr>\n",
       "    <tr>\n",
       "      <th>75</th>\n",
       "      <td>Georgia</td>\n",
       "      <td>2500.0</td>\n",
       "      <td>99.0</td>\n",
       "    </tr>\n",
       "    <tr>\n",
       "      <th>81</th>\n",
       "      <td>Grenada</td>\n",
       "      <td>5000.0</td>\n",
       "      <td>98.0</td>\n",
       "    </tr>\n",
       "    <tr>\n",
       "      <th>88</th>\n",
       "      <td>Guyana</td>\n",
       "      <td>4000.0</td>\n",
       "      <td>98.8</td>\n",
       "    </tr>\n",
       "    <tr>\n",
       "      <th>109</th>\n",
       "      <td>Korea, North</td>\n",
       "      <td>1300.0</td>\n",
       "      <td>99.0</td>\n",
       "    </tr>\n",
       "  </tbody>\n",
       "</table>\n",
       "</div>"
      ],
      "text/plain": [
       "           Country  GDP_dollar_per_capita_  Literacy_pct_\n",
       "9         Armenia                   3500.0           98.6\n",
       "13     Azerbaijan                   3400.0           97.0\n",
       "20         Belize                   4900.0           94.1\n",
       "47   Cook Islands                   5000.0           95.0\n",
       "51           Cuba                   2900.0           97.0\n",
       "56       Dominica                   5400.0           94.0\n",
       "75        Georgia                   2500.0           99.0\n",
       "81        Grenada                   5000.0           98.0\n",
       "88         Guyana                   4000.0           98.8\n",
       "109  Korea, North                   1300.0           99.0"
      ]
     },
     "execution_count": 120,
     "metadata": {},
     "output_type": "execute_result"
    }
   ],
   "source": [
    "df[(df['GDP_dollar_per_capita_'] < df['GDP_dollar_per_capita_'].median()) & (df['Literacy_pct_'] > df['Literacy_pct_'].median())][['Country','GDP_dollar_per_capita_','Literacy_pct_']].head(10)"
   ]
  },
  {
   "cell_type": "markdown",
   "id": "b42eb5d6-de62-4751-a6b7-fadde05882d5",
   "metadata": {},
   "source": [
    "26.\tWhich countries have both high infant mortality and low literacy?"
   ]
  },
  {
   "cell_type": "code",
   "execution_count": 121,
   "id": "2492b27e-4aba-449e-ac0d-8fc7929b7753",
   "metadata": {},
   "outputs": [
    {
     "data": {
      "text/html": [
       "<div>\n",
       "<style scoped>\n",
       "    .dataframe tbody tr th:only-of-type {\n",
       "        vertical-align: middle;\n",
       "    }\n",
       "\n",
       "    .dataframe tbody tr th {\n",
       "        vertical-align: top;\n",
       "    }\n",
       "\n",
       "    .dataframe thead th {\n",
       "        text-align: right;\n",
       "    }\n",
       "</style>\n",
       "<table border=\"1\" class=\"dataframe\">\n",
       "  <thead>\n",
       "    <tr style=\"text-align: right;\">\n",
       "      <th></th>\n",
       "      <th>Country</th>\n",
       "      <th>Infant_mortality_per_1000_births_</th>\n",
       "      <th>Literacy_pct_</th>\n",
       "    </tr>\n",
       "  </thead>\n",
       "  <tbody>\n",
       "    <tr>\n",
       "      <th>0</th>\n",
       "      <td>Afghanistan</td>\n",
       "      <td>163.07</td>\n",
       "      <td>36.0</td>\n",
       "    </tr>\n",
       "    <tr>\n",
       "      <th>1</th>\n",
       "      <td>Albania</td>\n",
       "      <td>21.52</td>\n",
       "      <td>86.5</td>\n",
       "    </tr>\n",
       "    <tr>\n",
       "      <th>2</th>\n",
       "      <td>Algeria</td>\n",
       "      <td>31.00</td>\n",
       "      <td>70.0</td>\n",
       "    </tr>\n",
       "    <tr>\n",
       "      <th>5</th>\n",
       "      <td>Angola</td>\n",
       "      <td>191.19</td>\n",
       "      <td>42.0</td>\n",
       "    </tr>\n",
       "    <tr>\n",
       "      <th>16</th>\n",
       "      <td>Bangladesh</td>\n",
       "      <td>62.60</td>\n",
       "      <td>43.1</td>\n",
       "    </tr>\n",
       "    <tr>\n",
       "      <th>21</th>\n",
       "      <td>Benin</td>\n",
       "      <td>85.00</td>\n",
       "      <td>40.9</td>\n",
       "    </tr>\n",
       "    <tr>\n",
       "      <th>23</th>\n",
       "      <td>Bhutan</td>\n",
       "      <td>100.44</td>\n",
       "      <td>42.2</td>\n",
       "    </tr>\n",
       "    <tr>\n",
       "      <th>24</th>\n",
       "      <td>Bolivia</td>\n",
       "      <td>53.11</td>\n",
       "      <td>87.2</td>\n",
       "    </tr>\n",
       "    <tr>\n",
       "      <th>26</th>\n",
       "      <td>Botswana</td>\n",
       "      <td>54.58</td>\n",
       "      <td>79.8</td>\n",
       "    </tr>\n",
       "    <tr>\n",
       "      <th>27</th>\n",
       "      <td>Brazil</td>\n",
       "      <td>29.61</td>\n",
       "      <td>86.4</td>\n",
       "    </tr>\n",
       "  </tbody>\n",
       "</table>\n",
       "</div>"
      ],
      "text/plain": [
       "         Country  Infant_mortality_per_1000_births_  Literacy_pct_\n",
       "0   Afghanistan                              163.07           36.0\n",
       "1       Albania                               21.52           86.5\n",
       "2       Algeria                               31.00           70.0\n",
       "5        Angola                              191.19           42.0\n",
       "16   Bangladesh                               62.60           43.1\n",
       "21        Benin                               85.00           40.9\n",
       "23       Bhutan                              100.44           42.2\n",
       "24      Bolivia                               53.11           87.2\n",
       "26     Botswana                               54.58           79.8\n",
       "27       Brazil                               29.61           86.4"
      ]
     },
     "execution_count": 121,
     "metadata": {},
     "output_type": "execute_result"
    }
   ],
   "source": [
    "df[(df['Literacy_pct_'] < df['Literacy_pct_'].median()) & (df['Infant_mortality_per_1000_births_'] > df['Infant_mortality_per_1000_births_'].median())][['Country','Infant_mortality_per_1000_births_','Literacy_pct_']].head(10)"
   ]
  },
  {
   "cell_type": "markdown",
   "id": "873bd196-a768-4fff-b1f4-aad50e65ce69",
   "metadata": {},
   "source": [
    "27.\tWhat are the literacy rates per region?"
   ]
  },
  {
   "cell_type": "code",
   "execution_count": 126,
   "id": "3e2f1969-e5aa-421a-ae54-dc800e16ae88",
   "metadata": {},
   "outputs": [
    {
     "data": {
      "text/html": [
       "<div>\n",
       "<style scoped>\n",
       "    .dataframe tbody tr th:only-of-type {\n",
       "        vertical-align: middle;\n",
       "    }\n",
       "\n",
       "    .dataframe tbody tr th {\n",
       "        vertical-align: top;\n",
       "    }\n",
       "\n",
       "    .dataframe thead th {\n",
       "        text-align: right;\n",
       "    }\n",
       "</style>\n",
       "<table border=\"1\" class=\"dataframe\">\n",
       "  <thead>\n",
       "    <tr style=\"text-align: right;\">\n",
       "      <th></th>\n",
       "      <th>Literacy_pct_</th>\n",
       "    </tr>\n",
       "    <tr>\n",
       "      <th>Region</th>\n",
       "      <th></th>\n",
       "    </tr>\n",
       "  </thead>\n",
       "  <tbody>\n",
       "    <tr>\n",
       "      <th>ASIA (EX. NEAR EAST)</th>\n",
       "      <td>79.553571</td>\n",
       "    </tr>\n",
       "    <tr>\n",
       "      <th>BALTICS</th>\n",
       "      <td>99.733333</td>\n",
       "    </tr>\n",
       "    <tr>\n",
       "      <th>C.W. OF IND. STATES</th>\n",
       "      <td>98.725000</td>\n",
       "    </tr>\n",
       "    <tr>\n",
       "      <th>EASTERN EUROPE</th>\n",
       "      <td>97.088889</td>\n",
       "    </tr>\n",
       "    <tr>\n",
       "      <th>LATIN AMER. &amp; CARIB</th>\n",
       "      <td>90.654545</td>\n",
       "    </tr>\n",
       "    <tr>\n",
       "      <th>NEAR EAST</th>\n",
       "      <td>79.521429</td>\n",
       "    </tr>\n",
       "    <tr>\n",
       "      <th>NORTHERN AFRICA</th>\n",
       "      <td>67.240000</td>\n",
       "    </tr>\n",
       "    <tr>\n",
       "      <th>NORTHERN AMERICA</th>\n",
       "      <td>97.750000</td>\n",
       "    </tr>\n",
       "    <tr>\n",
       "      <th>OCEANIA</th>\n",
       "      <td>88.835294</td>\n",
       "    </tr>\n",
       "    <tr>\n",
       "      <th>SUB-SAHARAN AFRICA</th>\n",
       "      <td>62.510000</td>\n",
       "    </tr>\n",
       "    <tr>\n",
       "      <th>WESTERN EUROPE</th>\n",
       "      <td>98.391304</td>\n",
       "    </tr>\n",
       "  </tbody>\n",
       "</table>\n",
       "</div>"
      ],
      "text/plain": [
       "                                     Literacy_pct_\n",
       "Region                                            \n",
       "ASIA (EX. NEAR EAST)                     79.553571\n",
       "BALTICS                                  99.733333\n",
       "C.W. OF IND. STATES                      98.725000\n",
       "EASTERN EUROPE                           97.088889\n",
       "LATIN AMER. & CARIB                      90.654545\n",
       "NEAR EAST                                79.521429\n",
       "NORTHERN AFRICA                          67.240000\n",
       "NORTHERN AMERICA                         97.750000\n",
       "OCEANIA                                  88.835294\n",
       "SUB-SAHARAN AFRICA                       62.510000\n",
       "WESTERN EUROPE                           98.391304"
      ]
     },
     "execution_count": 126,
     "metadata": {},
     "output_type": "execute_result"
    }
   ],
   "source": [
    "pd.pivot_table(df, values = 'Literacy_pct_', index = 'Region')"
   ]
  },
  {
   "cell_type": "markdown",
   "id": "cc7a1a5d-3899-4e56-9db2-aeb1b8c261f9",
   "metadata": {},
   "source": [
    "## 📱 Technology and Communication"
   ]
  },
  {
   "cell_type": "markdown",
   "id": "0e8147d8-62bc-4db8-b35e-e8e0dc74a781",
   "metadata": {},
   "source": [
    "28.\tWhich countries have the highest phone penetration per 1000 people?"
   ]
  },
  {
   "cell_type": "code",
   "execution_count": 129,
   "id": "a7596347-fc96-45f9-8bd2-56e56c2290b3",
   "metadata": {},
   "outputs": [
    {
     "data": {
      "text/html": [
       "<div>\n",
       "<style scoped>\n",
       "    .dataframe tbody tr th:only-of-type {\n",
       "        vertical-align: middle;\n",
       "    }\n",
       "\n",
       "    .dataframe tbody tr th {\n",
       "        vertical-align: top;\n",
       "    }\n",
       "\n",
       "    .dataframe thead th {\n",
       "        text-align: right;\n",
       "    }\n",
       "</style>\n",
       "<table border=\"1\" class=\"dataframe\">\n",
       "  <thead>\n",
       "    <tr style=\"text-align: right;\">\n",
       "      <th></th>\n",
       "      <th>Country</th>\n",
       "      <th>Phones_per_1000_</th>\n",
       "    </tr>\n",
       "  </thead>\n",
       "  <tbody>\n",
       "    <tr>\n",
       "      <th>138</th>\n",
       "      <td>Monaco</td>\n",
       "      <td>1035.6</td>\n",
       "    </tr>\n",
       "    <tr>\n",
       "      <th>214</th>\n",
       "      <td>United States</td>\n",
       "      <td>898.0</td>\n",
       "    </tr>\n",
       "    <tr>\n",
       "      <th>78</th>\n",
       "      <td>Gibraltar</td>\n",
       "      <td>877.7</td>\n",
       "    </tr>\n",
       "    <tr>\n",
       "      <th>22</th>\n",
       "      <td>Bermuda</td>\n",
       "      <td>851.4</td>\n",
       "    </tr>\n",
       "    <tr>\n",
       "      <th>85</th>\n",
       "      <td>Guernsey</td>\n",
       "      <td>842.4</td>\n",
       "    </tr>\n",
       "  </tbody>\n",
       "</table>\n",
       "</div>"
      ],
      "text/plain": [
       "            Country  Phones_per_1000_\n",
       "138         Monaco             1035.6\n",
       "214  United States              898.0\n",
       "78       Gibraltar              877.7\n",
       "22         Bermuda              851.4\n",
       "85        Guernsey              842.4"
      ]
     },
     "execution_count": 129,
     "metadata": {},
     "output_type": "execute_result"
    }
   ],
   "source": [
    "df.sort_values(by = 'Phones_per_1000_', ascending= False)[['Country', 'Phones_per_1000_']].head()"
   ]
  },
  {
   "cell_type": "markdown",
   "id": "a06c2496-1903-46a6-be0c-0ce5a79d848d",
   "metadata": {},
   "source": [
    "29.\tAre there any countries with very low phone penetration?"
   ]
  },
  {
   "cell_type": "code",
   "execution_count": 130,
   "id": "dc104d5a-4823-42a3-98a4-58a27aad05e3",
   "metadata": {},
   "outputs": [
    {
     "data": {
      "text/html": [
       "<div>\n",
       "<style scoped>\n",
       "    .dataframe tbody tr th:only-of-type {\n",
       "        vertical-align: middle;\n",
       "    }\n",
       "\n",
       "    .dataframe tbody tr th {\n",
       "        vertical-align: top;\n",
       "    }\n",
       "\n",
       "    .dataframe thead th {\n",
       "        text-align: right;\n",
       "    }\n",
       "</style>\n",
       "<table border=\"1\" class=\"dataframe\">\n",
       "  <thead>\n",
       "    <tr style=\"text-align: right;\">\n",
       "      <th></th>\n",
       "      <th>Country</th>\n",
       "      <th>Phones_per_1000_</th>\n",
       "    </tr>\n",
       "  </thead>\n",
       "  <tbody>\n",
       "    <tr>\n",
       "      <th>45</th>\n",
       "      <td>Congo, Dem. Rep.</td>\n",
       "      <td>0.2</td>\n",
       "    </tr>\n",
       "    <tr>\n",
       "      <th>40</th>\n",
       "      <td>Chad</td>\n",
       "      <td>1.3</td>\n",
       "    </tr>\n",
       "    <tr>\n",
       "      <th>151</th>\n",
       "      <td>Niger</td>\n",
       "      <td>1.9</td>\n",
       "    </tr>\n",
       "    <tr>\n",
       "      <th>39</th>\n",
       "      <td>Central African Rep.</td>\n",
       "      <td>2.3</td>\n",
       "    </tr>\n",
       "    <tr>\n",
       "      <th>117</th>\n",
       "      <td>Liberia</td>\n",
       "      <td>2.3</td>\n",
       "    </tr>\n",
       "  </tbody>\n",
       "</table>\n",
       "</div>"
      ],
      "text/plain": [
       "                   Country  Phones_per_1000_\n",
       "45       Congo, Dem. Rep.                0.2\n",
       "40                   Chad                1.3\n",
       "151                 Niger                1.9\n",
       "39   Central African Rep.                2.3\n",
       "117               Liberia                2.3"
      ]
     },
     "execution_count": 130,
     "metadata": {},
     "output_type": "execute_result"
    }
   ],
   "source": [
    "df.sort_values(by = 'Phones_per_1000_', ascending= True)[['Country', 'Phones_per_1000_']].head()"
   ]
  },
  {
   "cell_type": "markdown",
   "id": "acd8cf92-1bf5-49a5-8db2-964ed335e104",
   "metadata": {},
   "source": [
    "30.\tIs there a relationship between phone penetration and GDP?"
   ]
  },
  {
   "cell_type": "code",
   "execution_count": 134,
   "id": "95e8d713-073f-41d1-9970-09c4feb32938",
   "metadata": {},
   "outputs": [
    {
     "data": {
      "text/html": [
       "<div>\n",
       "<style scoped>\n",
       "    .dataframe tbody tr th:only-of-type {\n",
       "        vertical-align: middle;\n",
       "    }\n",
       "\n",
       "    .dataframe tbody tr th {\n",
       "        vertical-align: top;\n",
       "    }\n",
       "\n",
       "    .dataframe thead th {\n",
       "        text-align: right;\n",
       "    }\n",
       "</style>\n",
       "<table border=\"1\" class=\"dataframe\">\n",
       "  <thead>\n",
       "    <tr style=\"text-align: right;\">\n",
       "      <th></th>\n",
       "      <th>GDP_dollar_per_capita_</th>\n",
       "      <th>Phones_per_1000_</th>\n",
       "    </tr>\n",
       "  </thead>\n",
       "  <tbody>\n",
       "    <tr>\n",
       "      <th>GDP_dollar_per_capita_</th>\n",
       "      <td>1.000000</td>\n",
       "      <td>0.834499</td>\n",
       "    </tr>\n",
       "    <tr>\n",
       "      <th>Phones_per_1000_</th>\n",
       "      <td>0.834499</td>\n",
       "      <td>1.000000</td>\n",
       "    </tr>\n",
       "  </tbody>\n",
       "</table>\n",
       "</div>"
      ],
      "text/plain": [
       "                        GDP_dollar_per_capita_  Phones_per_1000_\n",
       "GDP_dollar_per_capita_                1.000000          0.834499\n",
       "Phones_per_1000_                      0.834499          1.000000"
      ]
     },
     "execution_count": 134,
     "metadata": {},
     "output_type": "execute_result"
    }
   ],
   "source": [
    "df[['GDP_dollar_per_capita_','Phones_per_1000_']].corr()"
   ]
  },
  {
   "cell_type": "markdown",
   "id": "7b2959e7-0bf4-4b3c-95bf-47cb771e0658",
   "metadata": {},
   "source": [
    "## 🌾 Land Usage and Climate"
   ]
  },
  {
   "cell_type": "markdown",
   "id": "36db4594-6908-4d1d-bc37-d4e3126ca017",
   "metadata": {},
   "source": [
    "31.\tWhich countries have the highest percentage of arable land?"
   ]
  },
  {
   "cell_type": "code",
   "execution_count": 136,
   "id": "2d6a37c0-6bb9-4494-85d2-9db3f0a200de",
   "metadata": {},
   "outputs": [
    {
     "data": {
      "text/html": [
       "<div>\n",
       "<style scoped>\n",
       "    .dataframe tbody tr th:only-of-type {\n",
       "        vertical-align: middle;\n",
       "    }\n",
       "\n",
       "    .dataframe tbody tr th {\n",
       "        vertical-align: top;\n",
       "    }\n",
       "\n",
       "    .dataframe thead th {\n",
       "        text-align: right;\n",
       "    }\n",
       "</style>\n",
       "<table border=\"1\" class=\"dataframe\">\n",
       "  <thead>\n",
       "    <tr style=\"text-align: right;\">\n",
       "      <th></th>\n",
       "      <th>Country</th>\n",
       "      <th>Arable_pct_</th>\n",
       "    </tr>\n",
       "  </thead>\n",
       "  <tbody>\n",
       "    <tr>\n",
       "      <th>16</th>\n",
       "      <td>Bangladesh</td>\n",
       "      <td>62.11</td>\n",
       "    </tr>\n",
       "    <tr>\n",
       "      <th>211</th>\n",
       "      <td>Ukraine</td>\n",
       "      <td>56.21</td>\n",
       "    </tr>\n",
       "    <tr>\n",
       "      <th>137</th>\n",
       "      <td>Moldova</td>\n",
       "      <td>55.30</td>\n",
       "    </tr>\n",
       "    <tr>\n",
       "      <th>94</th>\n",
       "      <td>India</td>\n",
       "      <td>54.40</td>\n",
       "    </tr>\n",
       "    <tr>\n",
       "      <th>54</th>\n",
       "      <td>Denmark</td>\n",
       "      <td>54.02</td>\n",
       "    </tr>\n",
       "  </tbody>\n",
       "</table>\n",
       "</div>"
      ],
      "text/plain": [
       "         Country  Arable_pct_\n",
       "16   Bangladesh         62.11\n",
       "211     Ukraine         56.21\n",
       "137     Moldova         55.30\n",
       "94        India         54.40\n",
       "54      Denmark         54.02"
      ]
     },
     "execution_count": 136,
     "metadata": {},
     "output_type": "execute_result"
    }
   ],
   "source": [
    "df.sort_values(by = 'Arable_pct_', ascending= False)[['Country', 'Arable_pct_']].head()"
   ]
  },
  {
   "cell_type": "markdown",
   "id": "5d5b41f0-d347-4b88-867c-ab5b7e253641",
   "metadata": {},
   "source": [
    "32.\tAre there any countries with 0% arable land?"
   ]
  },
  {
   "cell_type": "code",
   "execution_count": 139,
   "id": "a795dfe0-3a92-4092-a914-cfdc1cb0681e",
   "metadata": {},
   "outputs": [
    {
     "data": {
      "text/html": [
       "<div>\n",
       "<style scoped>\n",
       "    .dataframe tbody tr th:only-of-type {\n",
       "        vertical-align: middle;\n",
       "    }\n",
       "\n",
       "    .dataframe tbody tr th {\n",
       "        vertical-align: top;\n",
       "    }\n",
       "\n",
       "    .dataframe thead th {\n",
       "        text-align: right;\n",
       "    }\n",
       "</style>\n",
       "<table border=\"1\" class=\"dataframe\">\n",
       "  <thead>\n",
       "    <tr style=\"text-align: right;\">\n",
       "      <th></th>\n",
       "      <th>Country</th>\n",
       "      <th>Arable_pct_</th>\n",
       "    </tr>\n",
       "  </thead>\n",
       "  <tbody>\n",
       "    <tr>\n",
       "      <th>6</th>\n",
       "      <td>Anguilla</td>\n",
       "      <td>0.0</td>\n",
       "    </tr>\n",
       "    <tr>\n",
       "      <th>78</th>\n",
       "      <td>Gibraltar</td>\n",
       "      <td>0.0</td>\n",
       "    </tr>\n",
       "    <tr>\n",
       "      <th>80</th>\n",
       "      <td>Greenland</td>\n",
       "      <td>0.0</td>\n",
       "    </tr>\n",
       "    <tr>\n",
       "      <th>104</th>\n",
       "      <td>Jersey</td>\n",
       "      <td>0.0</td>\n",
       "    </tr>\n",
       "    <tr>\n",
       "      <th>122</th>\n",
       "      <td>Macau</td>\n",
       "      <td>0.0</td>\n",
       "    </tr>\n",
       "  </tbody>\n",
       "</table>\n",
       "</div>"
      ],
      "text/plain": [
       "        Country  Arable_pct_\n",
       "6     Anguilla           0.0\n",
       "78   Gibraltar           0.0\n",
       "80   Greenland           0.0\n",
       "104     Jersey           0.0\n",
       "122      Macau           0.0"
      ]
     },
     "execution_count": 139,
     "metadata": {},
     "output_type": "execute_result"
    }
   ],
   "source": [
    "df[df['Arable_pct_'] == 0][['Country','Arable_pct_']].head()"
   ]
  },
  {
   "cell_type": "markdown",
   "id": "209e9948-73ce-4b05-9fc9-2f28e4233ddd",
   "metadata": {},
   "source": [
    "33.\tWhat climate types exist in the dataset and how many countries are in each?"
   ]
  },
  {
   "cell_type": "code",
   "execution_count": 145,
   "id": "071450ae-8c3a-4a7e-9984-d06f27f65547",
   "metadata": {},
   "outputs": [
    {
     "data": {
      "text/html": [
       "<div>\n",
       "<style scoped>\n",
       "    .dataframe tbody tr th:only-of-type {\n",
       "        vertical-align: middle;\n",
       "    }\n",
       "\n",
       "    .dataframe tbody tr th {\n",
       "        vertical-align: top;\n",
       "    }\n",
       "\n",
       "    .dataframe thead th {\n",
       "        text-align: right;\n",
       "    }\n",
       "</style>\n",
       "<table border=\"1\" class=\"dataframe\">\n",
       "  <thead>\n",
       "    <tr style=\"text-align: right;\">\n",
       "      <th></th>\n",
       "      <th>index</th>\n",
       "      <th>Climate</th>\n",
       "    </tr>\n",
       "  </thead>\n",
       "  <tbody>\n",
       "    <tr>\n",
       "      <th>0</th>\n",
       "      <td>2.0</td>\n",
       "      <td>111</td>\n",
       "    </tr>\n",
       "    <tr>\n",
       "      <th>1</th>\n",
       "      <td>3.0</td>\n",
       "      <td>48</td>\n",
       "    </tr>\n",
       "    <tr>\n",
       "      <th>2</th>\n",
       "      <td>1.0</td>\n",
       "      <td>29</td>\n",
       "    </tr>\n",
       "    <tr>\n",
       "      <th>3</th>\n",
       "      <td>1.5</td>\n",
       "      <td>8</td>\n",
       "    </tr>\n",
       "    <tr>\n",
       "      <th>4</th>\n",
       "      <td>4.0</td>\n",
       "      <td>6</td>\n",
       "    </tr>\n",
       "    <tr>\n",
       "      <th>5</th>\n",
       "      <td>2.5</td>\n",
       "      <td>3</td>\n",
       "    </tr>\n",
       "  </tbody>\n",
       "</table>\n",
       "</div>"
      ],
      "text/plain": [
       "   index  Climate\n",
       "0    2.0      111\n",
       "1    3.0       48\n",
       "2    1.0       29\n",
       "3    1.5        8\n",
       "4    4.0        6\n",
       "5    2.5        3"
      ]
     },
     "execution_count": 145,
     "metadata": {},
     "output_type": "execute_result"
    }
   ],
   "source": [
    "df.Climate.value_counts().reset_index()"
   ]
  },
  {
   "cell_type": "markdown",
   "id": "fa67bd7c-d929-4931-87c7-0554454b7b52",
   "metadata": {},
   "source": [
    "34.\tDo countries with more arable land tend to have higher birthrates?"
   ]
  },
  {
   "cell_type": "code",
   "execution_count": 146,
   "id": "f6d6a5ed-4671-4189-851d-b439d45cb790",
   "metadata": {},
   "outputs": [
    {
     "data": {
      "text/html": [
       "<div>\n",
       "<style scoped>\n",
       "    .dataframe tbody tr th:only-of-type {\n",
       "        vertical-align: middle;\n",
       "    }\n",
       "\n",
       "    .dataframe tbody tr th {\n",
       "        vertical-align: top;\n",
       "    }\n",
       "\n",
       "    .dataframe thead th {\n",
       "        text-align: right;\n",
       "    }\n",
       "</style>\n",
       "<table border=\"1\" class=\"dataframe\">\n",
       "  <thead>\n",
       "    <tr style=\"text-align: right;\">\n",
       "      <th></th>\n",
       "      <th>Arable_pct_</th>\n",
       "      <th>Birthrate</th>\n",
       "    </tr>\n",
       "  </thead>\n",
       "  <tbody>\n",
       "    <tr>\n",
       "      <th>Arable_pct_</th>\n",
       "      <td>1.000000</td>\n",
       "      <td>-0.186823</td>\n",
       "    </tr>\n",
       "    <tr>\n",
       "      <th>Birthrate</th>\n",
       "      <td>-0.186823</td>\n",
       "      <td>1.000000</td>\n",
       "    </tr>\n",
       "  </tbody>\n",
       "</table>\n",
       "</div>"
      ],
      "text/plain": [
       "             Arable_pct_  Birthrate\n",
       "Arable_pct_     1.000000  -0.186823\n",
       "Birthrate      -0.186823   1.000000"
      ]
     },
     "execution_count": 146,
     "metadata": {},
     "output_type": "execute_result"
    }
   ],
   "source": [
    "df[['Arable_pct_','Birthrate']].corr()"
   ]
  },
  {
   "cell_type": "markdown",
   "id": "773170ee-2339-4e57-896b-3027f640becb",
   "metadata": {},
   "source": [
    "## 🧩 Data Quality and Consistency"
   ]
  },
  {
   "cell_type": "markdown",
   "id": "415aac8d-e035-49dc-8b40-32f6b0574fed",
   "metadata": {},
   "source": [
    "35.\tAre there any duplicate rows in the dataset?"
   ]
  },
  {
   "cell_type": "code",
   "execution_count": 147,
   "id": "5e3565f8-2818-4fed-aebd-fe3302ebec50",
   "metadata": {},
   "outputs": [
    {
     "data": {
      "text/plain": [
       "0"
      ]
     },
     "execution_count": 147,
     "metadata": {},
     "output_type": "execute_result"
    }
   ],
   "source": [
    "df.duplicated().sum()"
   ]
  },
  {
   "cell_type": "markdown",
   "id": "31f7e382-8ee2-403a-9100-9858094af4f3",
   "metadata": {},
   "source": [
    "36.\tAre there outliers in any numeric columns (e.g., very high population density)?"
   ]
  },
  {
   "cell_type": "code",
   "execution_count": 182,
   "id": "fd335c53-c05f-4f57-bc80-7c4f652f2241",
   "metadata": {},
   "outputs": [],
   "source": [
    "def has_outlier(df,col):\n",
    "    q1= df[col].quantile(0.25)\n",
    "    q3= df[col].quantile(0.75)\n",
    "    iqr= q3 - q1\n",
    "    lower_bound = q1 - 1.5*iqr\n",
    "    upper_bound = q3 +  1.5*iqr\n",
    "    return f'Number of outliers in {col}: {((df[col] < lower_bound) | (df[col] > upper_bound)).sum()}'"
   ]
  },
  {
   "cell_type": "code",
   "execution_count": 186,
   "id": "5e58a114-dc6d-48de-ad09-76034cc95b99",
   "metadata": {},
   "outputs": [
    {
     "data": {
      "text/plain": [
       "21"
      ]
     },
     "execution_count": 186,
     "metadata": {},
     "output_type": "execute_result"
    }
   ],
   "source": [
    "q1= df.Pop_Density_per_sq_mi_.quantile(0.25)\n",
    "q3= df.Pop_Density_per_sq_mi_.quantile(0.75)\n",
    "iqr= q3 - q1\n",
    "lower_bound = q1 - 1.5*iqr\n",
    "upper_bound = q3 +  1.5*iqr\n",
    "((df.Pop_Density_per_sq_mi_ < lower_bound) | (df.Pop_Density_per_sq_mi_ > upper_bound)).sum()"
   ]
  },
  {
   "cell_type": "code",
   "execution_count": 185,
   "id": "84016325-c4b0-4dc9-af3d-6dd2b58f8b85",
   "metadata": {},
   "outputs": [
    {
     "data": {
      "text/plain": [
       "'Number of outliers in Pop_Density_per_sq_mi_: 21'"
      ]
     },
     "execution_count": 185,
     "metadata": {},
     "output_type": "execute_result"
    }
   ],
   "source": [
    "has_outlier(df, 'Pop_Density_per_sq_mi_')"
   ]
  },
  {
   "cell_type": "code",
   "execution_count": 190,
   "id": "56e4bbd9-bfcf-4311-b92c-412c5148c7d1",
   "metadata": {},
   "outputs": [
    {
     "name": "stdout",
     "output_type": "stream",
     "text": [
      "Number of outliers in Population: 28\n",
      "Number of outliers in Area_sq_mi_: 28\n",
      "Number of outliers in Pop_Density_per_sq_mi_: 21\n",
      "Number of outliers in Coastline_coast_area_ratio_: 37\n",
      "Number of outliers in Net_migration: 50\n",
      "Number of outliers in Infant_mortality_per_1000_births_: 5\n",
      "Number of outliers in GDP_dollar_per_capita_: 3\n",
      "Number of outliers in Literacy_pct_: 2\n",
      "Number of outliers in Phones_per_1000_: 1\n",
      "Number of outliers in Arable_pct_: 10\n",
      "Number of outliers in Crops_pct_: 29\n",
      "Number of outliers in Other_pct_: 3\n",
      "Number of outliers in Climate: 0\n",
      "Number of outliers in Birthrate: 0\n",
      "Number of outliers in Deathrate: 16\n",
      "Number of outliers in Agriculture: 6\n",
      "Number of outliers in Industry: 11\n",
      "Number of outliers in Service: 0\n"
     ]
    }
   ],
   "source": [
    "for col in numeric_cols:\n",
    "    print(has_outlier(df, str(col)))"
   ]
  },
  {
   "cell_type": "markdown",
   "id": "a5460c30-645d-4a80-9df4-9555ca385695",
   "metadata": {},
   "source": [
    "37.\tAre the percentage values in \"Arable\", \"Crops\", and \"Other\" columns adding up to 100%?"
   ]
  },
  {
   "cell_type": "code",
   "execution_count": 205,
   "id": "5b7d4ef0-3bd8-46f3-9f4d-b875a6c568c6",
   "metadata": {},
   "outputs": [
    {
     "name": "stdout",
     "output_type": "stream",
     "text": [
      "Columns where percentage values in \"Arable\", \"Crops\", and \"Other\" columns do not add up to 100%: \n"
     ]
    },
    {
     "data": {
      "text/html": [
       "<div>\n",
       "<style scoped>\n",
       "    .dataframe tbody tr th:only-of-type {\n",
       "        vertical-align: middle;\n",
       "    }\n",
       "\n",
       "    .dataframe tbody tr th {\n",
       "        vertical-align: top;\n",
       "    }\n",
       "\n",
       "    .dataframe thead th {\n",
       "        text-align: right;\n",
       "    }\n",
       "</style>\n",
       "<table border=\"1\" class=\"dataframe\">\n",
       "  <thead>\n",
       "    <tr style=\"text-align: right;\">\n",
       "      <th></th>\n",
       "      <th>Country</th>\n",
       "      <th>Arable_pct_</th>\n",
       "      <th>Crops_pct_</th>\n",
       "      <th>Other_pct_</th>\n",
       "    </tr>\n",
       "  </thead>\n",
       "  <tbody>\n",
       "    <tr>\n",
       "      <th>27</th>\n",
       "      <td>Brazil</td>\n",
       "      <td>6.96</td>\n",
       "      <td>0.90</td>\n",
       "      <td>92.15</td>\n",
       "    </tr>\n",
       "    <tr>\n",
       "      <th>50</th>\n",
       "      <td>Croatia</td>\n",
       "      <td>26.09</td>\n",
       "      <td>2.27</td>\n",
       "      <td>71.65</td>\n",
       "    </tr>\n",
       "    <tr>\n",
       "      <th>85</th>\n",
       "      <td>Guernsey</td>\n",
       "      <td>NaN</td>\n",
       "      <td>NaN</td>\n",
       "      <td>NaN</td>\n",
       "    </tr>\n",
       "    <tr>\n",
       "      <th>124</th>\n",
       "      <td>Madagascar</td>\n",
       "      <td>5.07</td>\n",
       "      <td>1.03</td>\n",
       "      <td>93.91</td>\n",
       "    </tr>\n",
       "    <tr>\n",
       "      <th>134</th>\n",
       "      <td>Mayotte</td>\n",
       "      <td>NaN</td>\n",
       "      <td>NaN</td>\n",
       "      <td>NaN</td>\n",
       "    </tr>\n",
       "    <tr>\n",
       "      <th>155</th>\n",
       "      <td>Oman</td>\n",
       "      <td>0.00</td>\n",
       "      <td>0.14</td>\n",
       "      <td>99.74</td>\n",
       "    </tr>\n",
       "    <tr>\n",
       "      <th>225</th>\n",
       "      <td>Zambia</td>\n",
       "      <td>7.08</td>\n",
       "      <td>0.03</td>\n",
       "      <td>92.90</td>\n",
       "    </tr>\n",
       "  </tbody>\n",
       "</table>\n",
       "</div>"
      ],
      "text/plain": [
       "         Country  Arable_pct_  Crops_pct_  Other_pct_\n",
       "27       Brazil          6.96        0.90       92.15\n",
       "50      Croatia         26.09        2.27       71.65\n",
       "85     Guernsey           NaN         NaN         NaN\n",
       "124  Madagascar          5.07        1.03       93.91\n",
       "134     Mayotte           NaN         NaN         NaN\n",
       "155        Oman          0.00        0.14       99.74\n",
       "225      Zambia          7.08        0.03       92.90"
      ]
     },
     "execution_count": 205,
     "metadata": {},
     "output_type": "execute_result"
    }
   ],
   "source": [
    "df['pct_sum'] = (df[['Arable_pct_','Crops_pct_','Other_pct_']].sum(axis=1))\n",
    "print('Columns where percentage values in \"Arable\", \"Crops\", and \"Other\" columns do not add up to 100%: ')\n",
    "df[df['pct_sum'] != 100.00][['Country','Arable_pct_','Crops_pct_','Other_pct_']]"
   ]
  },
  {
   "cell_type": "markdown",
   "id": "6257e59b-c382-49bc-9c31-cdd989f8cf98",
   "metadata": {},
   "source": [
    "38.\tAre all country names unique and correctly spelled/formatted?"
   ]
  },
  {
   "cell_type": "code",
   "execution_count": 207,
   "id": "87815512-c862-4970-8408-a5a7583695e4",
   "metadata": {},
   "outputs": [
    {
     "data": {
      "text/plain": [
       "True"
      ]
     },
     "execution_count": 207,
     "metadata": {},
     "output_type": "execute_result"
    }
   ],
   "source": [
    "df.shape[0] == df.Country.nunique()"
   ]
  }
 ],
 "metadata": {
  "kernelspec": {
   "display_name": "Python 3 (ipykernel)",
   "language": "python",
   "name": "python3"
  },
  "language_info": {
   "codemirror_mode": {
    "name": "ipython",
    "version": 3
   },
   "file_extension": ".py",
   "mimetype": "text/x-python",
   "name": "python",
   "nbconvert_exporter": "python",
   "pygments_lexer": "ipython3",
   "version": "3.11.0"
  }
 },
 "nbformat": 4,
 "nbformat_minor": 5
}
